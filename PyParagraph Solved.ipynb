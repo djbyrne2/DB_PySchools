{
 "cells": [
  {
   "cell_type": "code",
   "execution_count": 229,
   "metadata": {},
   "outputs": [
    {
     "name": "stdout",
     "output_type": "stream",
     "text": [
      "True\n",
      "285\n",
      "9\n",
      "1496\n",
      "5.249122807017544\n",
      "31.666666666666668\n",
      "In this document there are approximately 285 words.\n",
      "In this document there are approximately 9 sentences.\n",
      "In this document the average letter count per word is 5.249122807017544 letters.\n",
      "In this document the average sentence contains approximately 31.666666666666668 words.\n"
     ]
    }
   ],
   "source": [
    "import os\n",
    "import csv\n",
    "import re\n",
    "\n",
    "file_name = os.path.join(\"raw_data\", \"paragraph_2.txt\")\n",
    "print(os.path.exists(file_name))\n",
    "\n",
    "with open (file_name, newline =\"\") as file_object:\n",
    "    contents = file_object.read()\n",
    "\n",
    "cleaned_contents = contents.replace('\\n', ' ')\n",
    "\n",
    "\n",
    "\n",
    "#print(cleaned_contents)\n",
    "\n",
    "words = cleaned_contents.split()\n",
    "\n",
    "number_words = len(words)\n",
    "print(number_words)\n",
    "\n",
    "sentences = re.split(\"(?<=[.!?]) +\", cleaned_contents)\n",
    "number_sentences = len(sentences)\n",
    "print(number_sentences)\n",
    "\n",
    "total_characters = 0\n",
    "for words in words:\n",
    "    total_characters += len(words)\n",
    "print(total_characters)\n",
    "\n",
    "avg_letter_count = total_characters/number_words\n",
    "print(avg_letter_count)\n",
    "\n",
    "avg_sentence_count = number_words/number_sentences\n",
    "print(avg_sentence_count)\n",
    "\n",
    "print(\"In this document there are approximately \"+ str(number_words)+ \" words.\")\n",
    "print(\"In this document there are approximately \"+ str(number_sentences)+ \" sentences.\")\n",
    "print(\"In this document the average letter count per word is \"+ str(avg_letter_count)+ \" letters.\")\n",
    "print(\"In this document the average sentence contains approximately \"+ str(avg_sentence_count)+ \" words.\")\n"
   ]
  },
  {
   "cell_type": "code",
   "execution_count": 228,
   "metadata": {},
   "outputs": [
    {
     "name": "stdout",
     "output_type": "stream",
     "text": [
      "PyParagraph Solved.ipynb  Schools_DB.ipynb          untitled\r\n",
      "PyParagraph.py            \u001b[34mraw_data\u001b[m\u001b[m/                 untitled1\r\n"
     ]
    }
   ],
   "source": []
  },
  {
   "cell_type": "code",
   "execution_count": 223,
   "metadata": {},
   "outputs": [],
   "source": []
  },
  {
   "cell_type": "code",
   "execution_count": null,
   "metadata": {},
   "outputs": [],
   "source": []
  },
  {
   "cell_type": "code",
   "execution_count": null,
   "metadata": {},
   "outputs": [],
   "source": [
    "\\"
   ]
  }
 ],
 "metadata": {
  "kernelspec": {
   "display_name": "Python 3",
   "language": "python",
   "name": "python3"
  },
  "language_info": {
   "codemirror_mode": {
    "name": "ipython",
    "version": 3
   },
   "file_extension": ".py",
   "mimetype": "text/x-python",
   "name": "python",
   "nbconvert_exporter": "python",
   "pygments_lexer": "ipython3",
   "version": "3.6.4"
  }
 },
 "nbformat": 4,
 "nbformat_minor": 2
}
