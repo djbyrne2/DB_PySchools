{
 "cells": [
  {
   "cell_type": "markdown",
   "metadata": {},
   "source": [
    "\n",
    "\n",
    "\n"
   ]
  },
  {
   "cell_type": "markdown",
   "metadata": {},
   "source": [
    "# PySchools \n",
    "\n",
    "## 3 Observable Trends in PySchools \n",
    "\n",
    "   ##### 1) The top 5 performing schools are all charter schools and the bottom 5  schools are all district schools.\n",
    "   \n",
    "   ##### 2) Within schools math and reading scores remain consistent across grades. There are modest differences between schools.\n",
    "   \n",
    "   ##### 3) Schools with higher budgets yield lower pass rates than schools with smaller budgets. Smaller & Medium size schools perform better than large schools.    "
   ]
  },
  {
   "cell_type": "code",
   "execution_count": 541,
   "metadata": {},
   "outputs": [],
   "source": [
    "#Dependencies\n",
    "import pandas as pd\n",
    "import os"
   ]
  },
  {
   "cell_type": "code",
   "execution_count": 542,
   "metadata": {},
   "outputs": [
    {
     "name": "stdout",
     "output_type": "stream",
     "text": [
      "True\n"
     ]
    }
   ],
   "source": [
    "# define file path\n",
    "schools_filepath_csv = os.path.join('raw_data','schools_complete.csv')\n",
    "print(os.path.exists(schools_filepath_csv))\n",
    "\n",
    "None"
   ]
  },
  {
   "cell_type": "code",
   "execution_count": 543,
   "metadata": {},
   "outputs": [],
   "source": [
    "# define file path\n",
    "students_filepath_csv = os.path.join('raw_data', 'students_complete.csv')\n",
    "#print(os.path.exists(students_filepath_csv))\n",
    "\n",
    "None"
   ]
  },
  {
   "cell_type": "code",
   "execution_count": 544,
   "metadata": {},
   "outputs": [],
   "source": [
    "# read schools file\n",
    "schools_df = pd.read_csv(schools_filepath_csv)\n",
    "#print(schools_df)\n",
    "\n",
    "None"
   ]
  },
  {
   "cell_type": "code",
   "execution_count": 545,
   "metadata": {},
   "outputs": [],
   "source": [
    "#read student file\n",
    "students_df = pd.read_csv(students_filepath_csv)\n",
    "students_df.head()\n",
    "\n",
    "None"
   ]
  },
  {
   "cell_type": "code",
   "execution_count": 546,
   "metadata": {},
   "outputs": [],
   "source": [
    "# Find Total Number of Schools within the District\n",
    "\n",
    "dist_schools = schools_df['name'].unique()\n",
    "\n",
    "school_numbers = len(dist_schools)\n",
    "\n",
    "#print(school_numbers)\n",
    "\n",
    "None"
   ]
  },
  {
   "cell_type": "code",
   "execution_count": 547,
   "metadata": {},
   "outputs": [],
   "source": [
    "# Find Total Number of Students within District\n",
    "\n",
    "total_dist_students = schools_df['size'].sum()\n",
    "#print(total_dist_students)\n",
    "\n",
    "None"
   ]
  },
  {
   "cell_type": "code",
   "execution_count": 548,
   "metadata": {},
   "outputs": [],
   "source": [
    "#Find Total District Budget\n",
    "\n",
    "total_dist_budget = schools_df['budget'].sum()\n",
    "\n",
    "#print(total_dist_budget)\n",
    "\n",
    "None"
   ]
  },
  {
   "cell_type": "code",
   "execution_count": 549,
   "metadata": {},
   "outputs": [],
   "source": [
    "# Find District's Average Math Score\n",
    "\n",
    "\n",
    "dist_student_ave_math = students_df[\"math_score\"].mean()\n",
    "\n",
    "#print(dist_student_ave_math)\n",
    "\n",
    "None"
   ]
  },
  {
   "cell_type": "code",
   "execution_count": 550,
   "metadata": {},
   "outputs": [],
   "source": [
    "# Find District's Average Reading Score\n",
    "\n",
    "dist_student_ave_reading = students_df[\"reading_score\"].mean()\n",
    "\n",
    "#print(dist_student_ave_reading)\n",
    "\n",
    "None"
   ]
  },
  {
   "cell_type": "code",
   "execution_count": 551,
   "metadata": {},
   "outputs": [],
   "source": [
    "# Find Total Number of Students Passing Math\n",
    "\n",
    "total_passing_math = (students_df['math_score'] >= 60).sum()\n",
    "\n",
    "#print(total_passing_math)\n",
    "\n",
    "# Find Total % of Students Passing Math\n",
    "\n",
    "percent_passing_math = (total_passing_math/total_dist_students)*100\n",
    "\n",
    "#print(percent_passing_math)\n",
    "\n",
    "None"
   ]
  },
  {
   "cell_type": "code",
   "execution_count": 552,
   "metadata": {},
   "outputs": [],
   "source": [
    "# Find Total Number of Students Passing Reading\n",
    "\n",
    "total_passing_reading = (students_df['reading_score'] >= 60).sum()\n",
    "\n",
    "#print(total_passing_reading)\n",
    "\n",
    "# Find Total % of Students Passing Reading\n",
    "\n",
    "percent_passing_reading = (total_passing_reading/total_dist_students)*100\n",
    "\n",
    "#print(percent_passing_reading)\n",
    "\n",
    "None"
   ]
  },
  {
   "cell_type": "code",
   "execution_count": 553,
   "metadata": {},
   "outputs": [],
   "source": [
    "# Find Overall Passing Rate (Average of the above two)\n",
    "\n",
    "combined_dist_passing = ((percent_passing_reading + percent_passing_math)/2)\n",
    "\n",
    "#print(combined_dist_passing)\n",
    "\n",
    "None"
   ]
  },
  {
   "cell_type": "code",
   "execution_count": 554,
   "metadata": {},
   "outputs": [],
   "source": [
    "# Create District Summary Table\n",
    "\n",
    "district_sum_table = pd.DataFrame({\n",
    "    \n",
    "    \"Total Schools\": [school_numbers],\n",
    "    \"Total Students\": [total_dist_students],\n",
    "    \"Total Budget\": [total_dist_budget],\n",
    "    \"Average Math Score\": [dist_student_ave_math],\n",
    "    \"Average Reading Score\": [dist_student_ave_reading],\n",
    "    \"% Passing Reading\": [percent_passing_reading],\n",
    "    \"% Passing Math\": [percent_passing_math],\n",
    "    \"Overall Passing Rate\":[combined_dist_passing]\n",
    "})\n",
    "\n",
    "\n",
    "\n"
   ]
  },
  {
   "cell_type": "code",
   "execution_count": 555,
   "metadata": {},
   "outputs": [
    {
     "data": {
      "text/html": [
       "<div>\n",
       "<style scoped>\n",
       "    .dataframe tbody tr th:only-of-type {\n",
       "        vertical-align: middle;\n",
       "    }\n",
       "\n",
       "    .dataframe tbody tr th {\n",
       "        vertical-align: top;\n",
       "    }\n",
       "\n",
       "    .dataframe thead th {\n",
       "        text-align: right;\n",
       "    }\n",
       "</style>\n",
       "<table border=\"1\" class=\"dataframe\">\n",
       "  <thead>\n",
       "    <tr style=\"text-align: right;\">\n",
       "      <th></th>\n",
       "      <th>Total Schools</th>\n",
       "      <th>Total Students</th>\n",
       "      <th>Total Budget</th>\n",
       "      <th>Average Math Score</th>\n",
       "      <th>Average Reading Score</th>\n",
       "      <th>% Passing Reading</th>\n",
       "      <th>% Passing Math</th>\n",
       "      <th>Overall Passing Rate</th>\n",
       "    </tr>\n",
       "  </thead>\n",
       "  <tbody>\n",
       "    <tr>\n",
       "      <th>0</th>\n",
       "      <td>15</td>\n",
       "      <td>39170</td>\n",
       "      <td>24649428</td>\n",
       "      <td>78.985371</td>\n",
       "      <td>81.87784</td>\n",
       "      <td>100.0</td>\n",
       "      <td>92.445749</td>\n",
       "      <td>96.222875</td>\n",
       "    </tr>\n",
       "  </tbody>\n",
       "</table>\n",
       "</div>"
      ],
      "text/plain": [
       "   Total Schools  Total Students  Total Budget  Average Math Score  \\\n",
       "0             15           39170      24649428           78.985371   \n",
       "\n",
       "   Average Reading Score  % Passing Reading  % Passing Math  \\\n",
       "0               81.87784              100.0       92.445749   \n",
       "\n",
       "   Overall Passing Rate  \n",
       "0             96.222875  "
      ]
     },
     "execution_count": 555,
     "metadata": {},
     "output_type": "execute_result"
    }
   ],
   "source": [
    "district_sum_table = district_sum_table[[\"Total Schools\", \"Total Students\",\"Total Budget\",\n",
    "                                     \"Average Math Score\", \"Average Reading Score\", \n",
    "                                     \"% Passing Reading\", \"% Passing Math\", \"Overall Passing Rate\"]]\n",
    "\n",
    "district_sum_table.head()\n"
   ]
  },
  {
   "cell_type": "markdown",
   "metadata": {},
   "source": [
    "# District Summary"
   ]
  },
  {
   "cell_type": "code",
   "execution_count": 556,
   "metadata": {},
   "outputs": [
    {
     "data": {
      "text/html": [
       "<div>\n",
       "<style scoped>\n",
       "    .dataframe tbody tr th:only-of-type {\n",
       "        vertical-align: middle;\n",
       "    }\n",
       "\n",
       "    .dataframe tbody tr th {\n",
       "        vertical-align: top;\n",
       "    }\n",
       "\n",
       "    .dataframe thead th {\n",
       "        text-align: right;\n",
       "    }\n",
       "</style>\n",
       "<table border=\"1\" class=\"dataframe\">\n",
       "  <thead>\n",
       "    <tr style=\"text-align: right;\">\n",
       "      <th></th>\n",
       "      <th>Total Schools</th>\n",
       "      <th>Total Students</th>\n",
       "      <th>Total Budget</th>\n",
       "      <th>Average Math Score</th>\n",
       "      <th>Average Reading Score</th>\n",
       "      <th>% Passing Reading</th>\n",
       "      <th>% Passing Math</th>\n",
       "      <th>Overall Passing Rate</th>\n",
       "    </tr>\n",
       "  </thead>\n",
       "  <tbody>\n",
       "    <tr>\n",
       "      <th>0</th>\n",
       "      <td>15</td>\n",
       "      <td>39,170</td>\n",
       "      <td>$24,649,428.00</td>\n",
       "      <td>78.99%</td>\n",
       "      <td>81.88%</td>\n",
       "      <td>100.00%</td>\n",
       "      <td>92.45%</td>\n",
       "      <td>96.22%</td>\n",
       "    </tr>\n",
       "  </tbody>\n",
       "</table>\n",
       "</div>"
      ],
      "text/plain": [
       "   Total Schools Total Students    Total Budget Average Math Score  \\\n",
       "0             15         39,170  $24,649,428.00             78.99%   \n",
       "\n",
       "  Average Reading Score % Passing Reading % Passing Math Overall Passing Rate  \n",
       "0                81.88%           100.00%         92.45%               96.22%  "
      ]
     },
     "execution_count": 556,
     "metadata": {},
     "output_type": "execute_result"
    }
   ],
   "source": [
    "district_sum_table[\"Total Students\"] = district_sum_table[\"Total Students\"].map(\"{: ,}\".format)\n",
    "district_sum_table[\"Total Budget\"] = district_sum_table[\"Total Budget\"].map(\"${:,.2f}\".format)\n",
    "district_sum_table[\"Average Math Score\"] = district_sum_table[\"Average Math Score\"].map(\"{:.2f}%\".format)\n",
    "district_sum_table[\"Average Reading Score\"] = district_sum_table[\"Average Reading Score\"].map(\"{:.2f}%\".format)\n",
    "district_sum_table[\"% Passing Math\"] = district_sum_table[\"% Passing Math\"].map(\"{:.2f}%\".format)\n",
    "district_sum_table[\"% Passing Reading\"] = district_sum_table[\"% Passing Reading\"].map(\"{:.2f}%\".format)\n",
    "district_sum_table[\"Overall Passing Rate\"] = district_sum_table[\"Overall Passing Rate\"].map(\"{:.2f}%\".format)\n",
    "\n",
    "district_sum_table.head()"
   ]
  },
  {
   "cell_type": "code",
   "execution_count": 557,
   "metadata": {},
   "outputs": [],
   "source": [
    "# Top Performing Schools (By Passing Rate)\n",
    "\n",
    "\n",
    "# Create a table that highlights the top 5 performing schools based on Overall Passing Rate. Include:\n",
    "\n",
    "\n",
    "# School Name\n",
    "# School Type\n",
    "# Total Students\n",
    "# Total School Budget\n",
    "# Per Student Budget\n",
    "# Average Math Score\n",
    "# Average Reading Score\n",
    "# % Passing Math\n",
    "# % Passing Reading\n",
    "# Overall Passing Rate (Average of the above two)\n",
    "\n"
   ]
  },
  {
   "cell_type": "code",
   "execution_count": 558,
   "metadata": {},
   "outputs": [],
   "source": [
    "#Rename Columns to Consolidate/Merge/Join/Group CSV files??\n",
    "\n",
    "schools_df = schools_df.rename(columns={\"name\":\"school\"})\n",
    "students_df = students_df.rename(columns={\"school\":\"school\"})"
   ]
  },
  {
   "cell_type": "code",
   "execution_count": 560,
   "metadata": {},
   "outputs": [],
   "source": [
    "top_schools_df = students_df.groupby(['school'])\n",
    "\n",
    "#top_schools_df.head()"
   ]
  },
  {
   "cell_type": "code",
   "execution_count": 561,
   "metadata": {},
   "outputs": [],
   "source": [
    "#Group by School Type\n",
    "\n",
    "school_type = schools_df.set_index('school')['type']\n",
    "#print(school_type)\n"
   ]
  },
  {
   "cell_type": "code",
   "execution_count": 562,
   "metadata": {},
   "outputs": [],
   "source": [
    "#Find Average Math Score for all schools\n",
    "\n",
    "top_schools_ave_math_df = pd.DataFrame(top_schools_df[\"math_score\"].mean())\n",
    "\n",
    "#print(top_schools_ave_math_df)"
   ]
  },
  {
   "cell_type": "code",
   "execution_count": 563,
   "metadata": {},
   "outputs": [],
   "source": [
    "#Find Average Reading Score for all schools\n",
    "\n",
    "top_schools_ave_reading_df = pd.DataFrame(top_schools_df[\"reading_score\"].mean())\n",
    "\n",
    "#print(top_schools_ave_reading_df)\n"
   ]
  },
  {
   "cell_type": "code",
   "execution_count": 564,
   "metadata": {},
   "outputs": [],
   "source": [
    "#Group students passing math and reading by school\n",
    "\n",
    "school_stu_passing_math = students_df[students_df[\"math_score\"]>= 60].groupby([\"school\"])\n",
    "                                                                   \n",
    "school_stu_passing_reading = students_df[students_df[\"reading_score\"]>= 60].groupby([\"school\"])\n",
    "                                                                   "
   ]
  },
  {
   "cell_type": "code",
   "execution_count": 565,
   "metadata": {},
   "outputs": [],
   "source": [
    "#Number of Students Per School\n",
    "school_student_count = top_schools_df['name'].count()\n",
    "#print(school_student_count)"
   ]
  },
  {
   "cell_type": "code",
   "execution_count": 566,
   "metadata": {},
   "outputs": [],
   "source": [
    "#Find Budget per School\n",
    "\n",
    "schools_budgets = schools_df.set_index('school')['budget']\n",
    "\n",
    "#print(schools_budgets)"
   ]
  },
  {
   "cell_type": "code",
   "execution_count": 567,
   "metadata": {},
   "outputs": [],
   "source": [
    "#Schools spending per Student\n",
    "\n",
    "student_spending = schools_budgets/school_student_count\n",
    "#print(student_spending)"
   ]
  },
  {
   "cell_type": "code",
   "execution_count": 568,
   "metadata": {},
   "outputs": [],
   "source": [
    "#Average Math Score by School\n",
    "average_school_math = top_schools_df['math_score'].mean()\n",
    "#print(average_school_math)"
   ]
  },
  {
   "cell_type": "code",
   "execution_count": 569,
   "metadata": {},
   "outputs": [],
   "source": [
    "#Average Reading Score by School\n",
    "\n",
    "average_school_reading = top_schools_df['reading_score'].mean()\n",
    "#print(average_school_reading)"
   ]
  },
  {
   "cell_type": "code",
   "execution_count": 570,
   "metadata": {},
   "outputs": [],
   "source": [
    "#Find the total number of students that passed math by school\n",
    "\n",
    "pass_math_school_numbers = students_df[students_df['math_score'] >= 60].groupby('school')['name'].count()\n",
    "#print(pass_math_school_numbers)"
   ]
  },
  {
   "cell_type": "code",
   "execution_count": 571,
   "metadata": {},
   "outputs": [],
   "source": [
    "#Find the total number of students that passed reading by school\n",
    "\n",
    "pass_reading_school_numbers = students_df[students_df['reading_score'] >= 60].groupby('school')['name'].count()\n",
    "#print(pass_reading_school_numbers)"
   ]
  },
  {
   "cell_type": "code",
   "execution_count": 572,
   "metadata": {},
   "outputs": [],
   "source": [
    "#Find the total percent of students that passed math by school\n",
    "percent_pass_math_school = (pass_math_school_numbers/school_student_count)\n",
    "#print(percent_pass_math_school)"
   ]
  },
  {
   "cell_type": "code",
   "execution_count": 573,
   "metadata": {},
   "outputs": [],
   "source": [
    "#Find the total percent of students that passed reading by school\n",
    "percent_pass_reading_school = percent_pass_reading_school = (pass_reading_school_numbers/school_student_count)\n",
    "#print(percent_pass_reading_school)"
   ]
  },
  {
   "cell_type": "code",
   "execution_count": 574,
   "metadata": {},
   "outputs": [],
   "source": [
    "#Calculate total percent passing by school\n",
    "total_percent_pass = (percent_pass_reading_school + percent_pass_math_school)/2\n",
    "#print(total_percent_pass)"
   ]
  },
  {
   "cell_type": "code",
   "execution_count": 575,
   "metadata": {},
   "outputs": [],
   "source": [
    "school_summary_table = pd.DataFrame({\n",
    "    \"School Type\": school_type,\n",
    "    \"Total Students\": school_student_count,\n",
    "    \"Per Student Budget\": student_spending ,\n",
    "    \"Total School Budget\": schools_budgets,\n",
    "    \"Average Math Score\": average_school_math ,\n",
    "    \"Average Reading Score\": average_school_reading,\n",
    "    '% Passing Math': percent_pass_math_school,\n",
    "    '% Passing Reading': percent_pass_reading_school,\n",
    "    \"Overall Passing Rate\": total_percent_pass\n",
    "})\n"
   ]
  },
  {
   "cell_type": "code",
   "execution_count": 576,
   "metadata": {},
   "outputs": [],
   "source": [
    "#rearranging column order\n",
    "school_summary_table = school_summary_table[['School Type', \n",
    "                          'Total Students', \n",
    "                          'Total School Budget', \n",
    "                          'Per Student Budget', \n",
    "                          'Average Math Score', \n",
    "                          'Average Reading Score',\n",
    "                          '% Passing Math',\n",
    "                          '% Passing Reading',\n",
    "                          'Overall Passing Rate']]"
   ]
  },
  {
   "cell_type": "code",
   "execution_count": 577,
   "metadata": {},
   "outputs": [
    {
     "data": {
      "text/html": [
       "<style  type=\"text/css\" >\n",
       "</style>  \n",
       "<table id=\"T_97ed67a6_571c_11e8_a5bd_720002f9a650\" > \n",
       "<thead>    <tr> \n",
       "        <th class=\"blank level0\" ></th> \n",
       "        <th class=\"col_heading level0 col0\" >School Type</th> \n",
       "        <th class=\"col_heading level0 col1\" >Total Students</th> \n",
       "        <th class=\"col_heading level0 col2\" >Total School Budget</th> \n",
       "        <th class=\"col_heading level0 col3\" >Per Student Budget</th> \n",
       "        <th class=\"col_heading level0 col4\" >Average Math Score</th> \n",
       "        <th class=\"col_heading level0 col5\" >Average Reading Score</th> \n",
       "        <th class=\"col_heading level0 col6\" >% Passing Math</th> \n",
       "        <th class=\"col_heading level0 col7\" >% Passing Reading</th> \n",
       "        <th class=\"col_heading level0 col8\" >Overall Passing Rate</th> \n",
       "    </tr></thead> \n",
       "<tbody>    <tr> \n",
       "        <th id=\"T_97ed67a6_571c_11e8_a5bd_720002f9a650level0_row0\" class=\"row_heading level0 row0\" >Bailey High School</th> \n",
       "        <td id=\"T_97ed67a6_571c_11e8_a5bd_720002f9a650row0_col0\" class=\"data row0 col0\" >District</td> \n",
       "        <td id=\"T_97ed67a6_571c_11e8_a5bd_720002f9a650row0_col1\" class=\"data row0 col1\" >4,976</td> \n",
       "        <td id=\"T_97ed67a6_571c_11e8_a5bd_720002f9a650row0_col2\" class=\"data row0 col2\" >$3,124,928</td> \n",
       "        <td id=\"T_97ed67a6_571c_11e8_a5bd_720002f9a650row0_col3\" class=\"data row0 col3\" >$628</td> \n",
       "        <td id=\"T_97ed67a6_571c_11e8_a5bd_720002f9a650row0_col4\" class=\"data row0 col4\" >77.0</td> \n",
       "        <td id=\"T_97ed67a6_571c_11e8_a5bd_720002f9a650row0_col5\" class=\"data row0 col5\" >81.0</td> \n",
       "        <td id=\"T_97ed67a6_571c_11e8_a5bd_720002f9a650row0_col6\" class=\"data row0 col6\" >89.53%</td> \n",
       "        <td id=\"T_97ed67a6_571c_11e8_a5bd_720002f9a650row0_col7\" class=\"data row0 col7\" >100.00%</td> \n",
       "        <td id=\"T_97ed67a6_571c_11e8_a5bd_720002f9a650row0_col8\" class=\"data row0 col8\" >94.76%</td> \n",
       "    </tr>    <tr> \n",
       "        <th id=\"T_97ed67a6_571c_11e8_a5bd_720002f9a650level0_row1\" class=\"row_heading level0 row1\" >Cabrera High School</th> \n",
       "        <td id=\"T_97ed67a6_571c_11e8_a5bd_720002f9a650row1_col0\" class=\"data row1 col0\" >Charter</td> \n",
       "        <td id=\"T_97ed67a6_571c_11e8_a5bd_720002f9a650row1_col1\" class=\"data row1 col1\" >1,858</td> \n",
       "        <td id=\"T_97ed67a6_571c_11e8_a5bd_720002f9a650row1_col2\" class=\"data row1 col2\" >$1,081,356</td> \n",
       "        <td id=\"T_97ed67a6_571c_11e8_a5bd_720002f9a650row1_col3\" class=\"data row1 col3\" >$582</td> \n",
       "        <td id=\"T_97ed67a6_571c_11e8_a5bd_720002f9a650row1_col4\" class=\"data row1 col4\" >83.1</td> \n",
       "        <td id=\"T_97ed67a6_571c_11e8_a5bd_720002f9a650row1_col5\" class=\"data row1 col5\" >84.0</td> \n",
       "        <td id=\"T_97ed67a6_571c_11e8_a5bd_720002f9a650row1_col6\" class=\"data row1 col6\" >100.00%</td> \n",
       "        <td id=\"T_97ed67a6_571c_11e8_a5bd_720002f9a650row1_col7\" class=\"data row1 col7\" >100.00%</td> \n",
       "        <td id=\"T_97ed67a6_571c_11e8_a5bd_720002f9a650row1_col8\" class=\"data row1 col8\" >100.00%</td> \n",
       "    </tr>    <tr> \n",
       "        <th id=\"T_97ed67a6_571c_11e8_a5bd_720002f9a650level0_row2\" class=\"row_heading level0 row2\" >Figueroa High School</th> \n",
       "        <td id=\"T_97ed67a6_571c_11e8_a5bd_720002f9a650row2_col0\" class=\"data row2 col0\" >District</td> \n",
       "        <td id=\"T_97ed67a6_571c_11e8_a5bd_720002f9a650row2_col1\" class=\"data row2 col1\" >2,949</td> \n",
       "        <td id=\"T_97ed67a6_571c_11e8_a5bd_720002f9a650row2_col2\" class=\"data row2 col2\" >$1,884,411</td> \n",
       "        <td id=\"T_97ed67a6_571c_11e8_a5bd_720002f9a650row2_col3\" class=\"data row2 col3\" >$639</td> \n",
       "        <td id=\"T_97ed67a6_571c_11e8_a5bd_720002f9a650row2_col4\" class=\"data row2 col4\" >76.7</td> \n",
       "        <td id=\"T_97ed67a6_571c_11e8_a5bd_720002f9a650row2_col5\" class=\"data row2 col5\" >81.2</td> \n",
       "        <td id=\"T_97ed67a6_571c_11e8_a5bd_720002f9a650row2_col6\" class=\"data row2 col6\" >88.44%</td> \n",
       "        <td id=\"T_97ed67a6_571c_11e8_a5bd_720002f9a650row2_col7\" class=\"data row2 col7\" >100.00%</td> \n",
       "        <td id=\"T_97ed67a6_571c_11e8_a5bd_720002f9a650row2_col8\" class=\"data row2 col8\" >94.22%</td> \n",
       "    </tr>    <tr> \n",
       "        <th id=\"T_97ed67a6_571c_11e8_a5bd_720002f9a650level0_row3\" class=\"row_heading level0 row3\" >Ford High School</th> \n",
       "        <td id=\"T_97ed67a6_571c_11e8_a5bd_720002f9a650row3_col0\" class=\"data row3 col0\" >District</td> \n",
       "        <td id=\"T_97ed67a6_571c_11e8_a5bd_720002f9a650row3_col1\" class=\"data row3 col1\" >2,739</td> \n",
       "        <td id=\"T_97ed67a6_571c_11e8_a5bd_720002f9a650row3_col2\" class=\"data row3 col2\" >$1,763,916</td> \n",
       "        <td id=\"T_97ed67a6_571c_11e8_a5bd_720002f9a650row3_col3\" class=\"data row3 col3\" >$644</td> \n",
       "        <td id=\"T_97ed67a6_571c_11e8_a5bd_720002f9a650row3_col4\" class=\"data row3 col4\" >77.1</td> \n",
       "        <td id=\"T_97ed67a6_571c_11e8_a5bd_720002f9a650row3_col5\" class=\"data row3 col5\" >80.7</td> \n",
       "        <td id=\"T_97ed67a6_571c_11e8_a5bd_720002f9a650row3_col6\" class=\"data row3 col6\" >89.30%</td> \n",
       "        <td id=\"T_97ed67a6_571c_11e8_a5bd_720002f9a650row3_col7\" class=\"data row3 col7\" >100.00%</td> \n",
       "        <td id=\"T_97ed67a6_571c_11e8_a5bd_720002f9a650row3_col8\" class=\"data row3 col8\" >94.65%</td> \n",
       "    </tr>    <tr> \n",
       "        <th id=\"T_97ed67a6_571c_11e8_a5bd_720002f9a650level0_row4\" class=\"row_heading level0 row4\" >Griffin High School</th> \n",
       "        <td id=\"T_97ed67a6_571c_11e8_a5bd_720002f9a650row4_col0\" class=\"data row4 col0\" >Charter</td> \n",
       "        <td id=\"T_97ed67a6_571c_11e8_a5bd_720002f9a650row4_col1\" class=\"data row4 col1\" >1,468</td> \n",
       "        <td id=\"T_97ed67a6_571c_11e8_a5bd_720002f9a650row4_col2\" class=\"data row4 col2\" >$917,500</td> \n",
       "        <td id=\"T_97ed67a6_571c_11e8_a5bd_720002f9a650row4_col3\" class=\"data row4 col3\" >$625</td> \n",
       "        <td id=\"T_97ed67a6_571c_11e8_a5bd_720002f9a650row4_col4\" class=\"data row4 col4\" >83.4</td> \n",
       "        <td id=\"T_97ed67a6_571c_11e8_a5bd_720002f9a650row4_col5\" class=\"data row4 col5\" >83.8</td> \n",
       "        <td id=\"T_97ed67a6_571c_11e8_a5bd_720002f9a650row4_col6\" class=\"data row4 col6\" >100.00%</td> \n",
       "        <td id=\"T_97ed67a6_571c_11e8_a5bd_720002f9a650row4_col7\" class=\"data row4 col7\" >100.00%</td> \n",
       "        <td id=\"T_97ed67a6_571c_11e8_a5bd_720002f9a650row4_col8\" class=\"data row4 col8\" >100.00%</td> \n",
       "    </tr>    <tr> \n",
       "        <th id=\"T_97ed67a6_571c_11e8_a5bd_720002f9a650level0_row5\" class=\"row_heading level0 row5\" >Hernandez High School</th> \n",
       "        <td id=\"T_97ed67a6_571c_11e8_a5bd_720002f9a650row5_col0\" class=\"data row5 col0\" >District</td> \n",
       "        <td id=\"T_97ed67a6_571c_11e8_a5bd_720002f9a650row5_col1\" class=\"data row5 col1\" >4,635</td> \n",
       "        <td id=\"T_97ed67a6_571c_11e8_a5bd_720002f9a650row5_col2\" class=\"data row5 col2\" >$3,022,020</td> \n",
       "        <td id=\"T_97ed67a6_571c_11e8_a5bd_720002f9a650row5_col3\" class=\"data row5 col3\" >$652</td> \n",
       "        <td id=\"T_97ed67a6_571c_11e8_a5bd_720002f9a650row5_col4\" class=\"data row5 col4\" >77.3</td> \n",
       "        <td id=\"T_97ed67a6_571c_11e8_a5bd_720002f9a650row5_col5\" class=\"data row5 col5\" >80.9</td> \n",
       "        <td id=\"T_97ed67a6_571c_11e8_a5bd_720002f9a650row5_col6\" class=\"data row5 col6\" >89.08%</td> \n",
       "        <td id=\"T_97ed67a6_571c_11e8_a5bd_720002f9a650row5_col7\" class=\"data row5 col7\" >100.00%</td> \n",
       "        <td id=\"T_97ed67a6_571c_11e8_a5bd_720002f9a650row5_col8\" class=\"data row5 col8\" >94.54%</td> \n",
       "    </tr>    <tr> \n",
       "        <th id=\"T_97ed67a6_571c_11e8_a5bd_720002f9a650level0_row6\" class=\"row_heading level0 row6\" >Holden High School</th> \n",
       "        <td id=\"T_97ed67a6_571c_11e8_a5bd_720002f9a650row6_col0\" class=\"data row6 col0\" >Charter</td> \n",
       "        <td id=\"T_97ed67a6_571c_11e8_a5bd_720002f9a650row6_col1\" class=\"data row6 col1\" >427</td> \n",
       "        <td id=\"T_97ed67a6_571c_11e8_a5bd_720002f9a650row6_col2\" class=\"data row6 col2\" >$248,087</td> \n",
       "        <td id=\"T_97ed67a6_571c_11e8_a5bd_720002f9a650row6_col3\" class=\"data row6 col3\" >$581</td> \n",
       "        <td id=\"T_97ed67a6_571c_11e8_a5bd_720002f9a650row6_col4\" class=\"data row6 col4\" >83.8</td> \n",
       "        <td id=\"T_97ed67a6_571c_11e8_a5bd_720002f9a650row6_col5\" class=\"data row6 col5\" >83.8</td> \n",
       "        <td id=\"T_97ed67a6_571c_11e8_a5bd_720002f9a650row6_col6\" class=\"data row6 col6\" >100.00%</td> \n",
       "        <td id=\"T_97ed67a6_571c_11e8_a5bd_720002f9a650row6_col7\" class=\"data row6 col7\" >100.00%</td> \n",
       "        <td id=\"T_97ed67a6_571c_11e8_a5bd_720002f9a650row6_col8\" class=\"data row6 col8\" >100.00%</td> \n",
       "    </tr>    <tr> \n",
       "        <th id=\"T_97ed67a6_571c_11e8_a5bd_720002f9a650level0_row7\" class=\"row_heading level0 row7\" >Huang High School</th> \n",
       "        <td id=\"T_97ed67a6_571c_11e8_a5bd_720002f9a650row7_col0\" class=\"data row7 col0\" >District</td> \n",
       "        <td id=\"T_97ed67a6_571c_11e8_a5bd_720002f9a650row7_col1\" class=\"data row7 col1\" >2,917</td> \n",
       "        <td id=\"T_97ed67a6_571c_11e8_a5bd_720002f9a650row7_col2\" class=\"data row7 col2\" >$1,910,635</td> \n",
       "        <td id=\"T_97ed67a6_571c_11e8_a5bd_720002f9a650row7_col3\" class=\"data row7 col3\" >$655</td> \n",
       "        <td id=\"T_97ed67a6_571c_11e8_a5bd_720002f9a650row7_col4\" class=\"data row7 col4\" >76.6</td> \n",
       "        <td id=\"T_97ed67a6_571c_11e8_a5bd_720002f9a650row7_col5\" class=\"data row7 col5\" >81.2</td> \n",
       "        <td id=\"T_97ed67a6_571c_11e8_a5bd_720002f9a650row7_col6\" class=\"data row7 col6\" >88.86%</td> \n",
       "        <td id=\"T_97ed67a6_571c_11e8_a5bd_720002f9a650row7_col7\" class=\"data row7 col7\" >100.00%</td> \n",
       "        <td id=\"T_97ed67a6_571c_11e8_a5bd_720002f9a650row7_col8\" class=\"data row7 col8\" >94.43%</td> \n",
       "    </tr>    <tr> \n",
       "        <th id=\"T_97ed67a6_571c_11e8_a5bd_720002f9a650level0_row8\" class=\"row_heading level0 row8\" >Johnson High School</th> \n",
       "        <td id=\"T_97ed67a6_571c_11e8_a5bd_720002f9a650row8_col0\" class=\"data row8 col0\" >District</td> \n",
       "        <td id=\"T_97ed67a6_571c_11e8_a5bd_720002f9a650row8_col1\" class=\"data row8 col1\" >4,761</td> \n",
       "        <td id=\"T_97ed67a6_571c_11e8_a5bd_720002f9a650row8_col2\" class=\"data row8 col2\" >$3,094,650</td> \n",
       "        <td id=\"T_97ed67a6_571c_11e8_a5bd_720002f9a650row8_col3\" class=\"data row8 col3\" >$650</td> \n",
       "        <td id=\"T_97ed67a6_571c_11e8_a5bd_720002f9a650row8_col4\" class=\"data row8 col4\" >77.1</td> \n",
       "        <td id=\"T_97ed67a6_571c_11e8_a5bd_720002f9a650row8_col5\" class=\"data row8 col5\" >81.0</td> \n",
       "        <td id=\"T_97ed67a6_571c_11e8_a5bd_720002f9a650row8_col6\" class=\"data row8 col6\" >89.18%</td> \n",
       "        <td id=\"T_97ed67a6_571c_11e8_a5bd_720002f9a650row8_col7\" class=\"data row8 col7\" >100.00%</td> \n",
       "        <td id=\"T_97ed67a6_571c_11e8_a5bd_720002f9a650row8_col8\" class=\"data row8 col8\" >94.59%</td> \n",
       "    </tr>    <tr> \n",
       "        <th id=\"T_97ed67a6_571c_11e8_a5bd_720002f9a650level0_row9\" class=\"row_heading level0 row9\" >Pena High School</th> \n",
       "        <td id=\"T_97ed67a6_571c_11e8_a5bd_720002f9a650row9_col0\" class=\"data row9 col0\" >Charter</td> \n",
       "        <td id=\"T_97ed67a6_571c_11e8_a5bd_720002f9a650row9_col1\" class=\"data row9 col1\" >962</td> \n",
       "        <td id=\"T_97ed67a6_571c_11e8_a5bd_720002f9a650row9_col2\" class=\"data row9 col2\" >$585,858</td> \n",
       "        <td id=\"T_97ed67a6_571c_11e8_a5bd_720002f9a650row9_col3\" class=\"data row9 col3\" >$609</td> \n",
       "        <td id=\"T_97ed67a6_571c_11e8_a5bd_720002f9a650row9_col4\" class=\"data row9 col4\" >83.8</td> \n",
       "        <td id=\"T_97ed67a6_571c_11e8_a5bd_720002f9a650row9_col5\" class=\"data row9 col5\" >84.0</td> \n",
       "        <td id=\"T_97ed67a6_571c_11e8_a5bd_720002f9a650row9_col6\" class=\"data row9 col6\" >100.00%</td> \n",
       "        <td id=\"T_97ed67a6_571c_11e8_a5bd_720002f9a650row9_col7\" class=\"data row9 col7\" >100.00%</td> \n",
       "        <td id=\"T_97ed67a6_571c_11e8_a5bd_720002f9a650row9_col8\" class=\"data row9 col8\" >100.00%</td> \n",
       "    </tr>    <tr> \n",
       "        <th id=\"T_97ed67a6_571c_11e8_a5bd_720002f9a650level0_row10\" class=\"row_heading level0 row10\" >Rodriguez High School</th> \n",
       "        <td id=\"T_97ed67a6_571c_11e8_a5bd_720002f9a650row10_col0\" class=\"data row10 col0\" >District</td> \n",
       "        <td id=\"T_97ed67a6_571c_11e8_a5bd_720002f9a650row10_col1\" class=\"data row10 col1\" >3,999</td> \n",
       "        <td id=\"T_97ed67a6_571c_11e8_a5bd_720002f9a650row10_col2\" class=\"data row10 col2\" >$2,547,363</td> \n",
       "        <td id=\"T_97ed67a6_571c_11e8_a5bd_720002f9a650row10_col3\" class=\"data row10 col3\" >$637</td> \n",
       "        <td id=\"T_97ed67a6_571c_11e8_a5bd_720002f9a650row10_col4\" class=\"data row10 col4\" >76.8</td> \n",
       "        <td id=\"T_97ed67a6_571c_11e8_a5bd_720002f9a650row10_col5\" class=\"data row10 col5\" >80.7</td> \n",
       "        <td id=\"T_97ed67a6_571c_11e8_a5bd_720002f9a650row10_col6\" class=\"data row10 col6\" >88.55%</td> \n",
       "        <td id=\"T_97ed67a6_571c_11e8_a5bd_720002f9a650row10_col7\" class=\"data row10 col7\" >100.00%</td> \n",
       "        <td id=\"T_97ed67a6_571c_11e8_a5bd_720002f9a650row10_col8\" class=\"data row10 col8\" >94.27%</td> \n",
       "    </tr>    <tr> \n",
       "        <th id=\"T_97ed67a6_571c_11e8_a5bd_720002f9a650level0_row11\" class=\"row_heading level0 row11\" >Shelton High School</th> \n",
       "        <td id=\"T_97ed67a6_571c_11e8_a5bd_720002f9a650row11_col0\" class=\"data row11 col0\" >Charter</td> \n",
       "        <td id=\"T_97ed67a6_571c_11e8_a5bd_720002f9a650row11_col1\" class=\"data row11 col1\" >1,761</td> \n",
       "        <td id=\"T_97ed67a6_571c_11e8_a5bd_720002f9a650row11_col2\" class=\"data row11 col2\" >$1,056,600</td> \n",
       "        <td id=\"T_97ed67a6_571c_11e8_a5bd_720002f9a650row11_col3\" class=\"data row11 col3\" >$600</td> \n",
       "        <td id=\"T_97ed67a6_571c_11e8_a5bd_720002f9a650row11_col4\" class=\"data row11 col4\" >83.4</td> \n",
       "        <td id=\"T_97ed67a6_571c_11e8_a5bd_720002f9a650row11_col5\" class=\"data row11 col5\" >83.7</td> \n",
       "        <td id=\"T_97ed67a6_571c_11e8_a5bd_720002f9a650row11_col6\" class=\"data row11 col6\" >100.00%</td> \n",
       "        <td id=\"T_97ed67a6_571c_11e8_a5bd_720002f9a650row11_col7\" class=\"data row11 col7\" >100.00%</td> \n",
       "        <td id=\"T_97ed67a6_571c_11e8_a5bd_720002f9a650row11_col8\" class=\"data row11 col8\" >100.00%</td> \n",
       "    </tr>    <tr> \n",
       "        <th id=\"T_97ed67a6_571c_11e8_a5bd_720002f9a650level0_row12\" class=\"row_heading level0 row12\" >Thomas High School</th> \n",
       "        <td id=\"T_97ed67a6_571c_11e8_a5bd_720002f9a650row12_col0\" class=\"data row12 col0\" >Charter</td> \n",
       "        <td id=\"T_97ed67a6_571c_11e8_a5bd_720002f9a650row12_col1\" class=\"data row12 col1\" >1,635</td> \n",
       "        <td id=\"T_97ed67a6_571c_11e8_a5bd_720002f9a650row12_col2\" class=\"data row12 col2\" >$1,043,130</td> \n",
       "        <td id=\"T_97ed67a6_571c_11e8_a5bd_720002f9a650row12_col3\" class=\"data row12 col3\" >$638</td> \n",
       "        <td id=\"T_97ed67a6_571c_11e8_a5bd_720002f9a650row12_col4\" class=\"data row12 col4\" >83.4</td> \n",
       "        <td id=\"T_97ed67a6_571c_11e8_a5bd_720002f9a650row12_col5\" class=\"data row12 col5\" >83.8</td> \n",
       "        <td id=\"T_97ed67a6_571c_11e8_a5bd_720002f9a650row12_col6\" class=\"data row12 col6\" >100.00%</td> \n",
       "        <td id=\"T_97ed67a6_571c_11e8_a5bd_720002f9a650row12_col7\" class=\"data row12 col7\" >100.00%</td> \n",
       "        <td id=\"T_97ed67a6_571c_11e8_a5bd_720002f9a650row12_col8\" class=\"data row12 col8\" >100.00%</td> \n",
       "    </tr>    <tr> \n",
       "        <th id=\"T_97ed67a6_571c_11e8_a5bd_720002f9a650level0_row13\" class=\"row_heading level0 row13\" >Wilson High School</th> \n",
       "        <td id=\"T_97ed67a6_571c_11e8_a5bd_720002f9a650row13_col0\" class=\"data row13 col0\" >Charter</td> \n",
       "        <td id=\"T_97ed67a6_571c_11e8_a5bd_720002f9a650row13_col1\" class=\"data row13 col1\" >2,283</td> \n",
       "        <td id=\"T_97ed67a6_571c_11e8_a5bd_720002f9a650row13_col2\" class=\"data row13 col2\" >$1,319,574</td> \n",
       "        <td id=\"T_97ed67a6_571c_11e8_a5bd_720002f9a650row13_col3\" class=\"data row13 col3\" >$578</td> \n",
       "        <td id=\"T_97ed67a6_571c_11e8_a5bd_720002f9a650row13_col4\" class=\"data row13 col4\" >83.3</td> \n",
       "        <td id=\"T_97ed67a6_571c_11e8_a5bd_720002f9a650row13_col5\" class=\"data row13 col5\" >84.0</td> \n",
       "        <td id=\"T_97ed67a6_571c_11e8_a5bd_720002f9a650row13_col6\" class=\"data row13 col6\" >100.00%</td> \n",
       "        <td id=\"T_97ed67a6_571c_11e8_a5bd_720002f9a650row13_col7\" class=\"data row13 col7\" >100.00%</td> \n",
       "        <td id=\"T_97ed67a6_571c_11e8_a5bd_720002f9a650row13_col8\" class=\"data row13 col8\" >100.00%</td> \n",
       "    </tr>    <tr> \n",
       "        <th id=\"T_97ed67a6_571c_11e8_a5bd_720002f9a650level0_row14\" class=\"row_heading level0 row14\" >Wright High School</th> \n",
       "        <td id=\"T_97ed67a6_571c_11e8_a5bd_720002f9a650row14_col0\" class=\"data row14 col0\" >Charter</td> \n",
       "        <td id=\"T_97ed67a6_571c_11e8_a5bd_720002f9a650row14_col1\" class=\"data row14 col1\" >1,800</td> \n",
       "        <td id=\"T_97ed67a6_571c_11e8_a5bd_720002f9a650row14_col2\" class=\"data row14 col2\" >$1,049,400</td> \n",
       "        <td id=\"T_97ed67a6_571c_11e8_a5bd_720002f9a650row14_col3\" class=\"data row14 col3\" >$583</td> \n",
       "        <td id=\"T_97ed67a6_571c_11e8_a5bd_720002f9a650row14_col4\" class=\"data row14 col4\" >83.7</td> \n",
       "        <td id=\"T_97ed67a6_571c_11e8_a5bd_720002f9a650row14_col5\" class=\"data row14 col5\" >84.0</td> \n",
       "        <td id=\"T_97ed67a6_571c_11e8_a5bd_720002f9a650row14_col6\" class=\"data row14 col6\" >100.00%</td> \n",
       "        <td id=\"T_97ed67a6_571c_11e8_a5bd_720002f9a650row14_col7\" class=\"data row14 col7\" >100.00%</td> \n",
       "        <td id=\"T_97ed67a6_571c_11e8_a5bd_720002f9a650row14_col8\" class=\"data row14 col8\" >100.00%</td> \n",
       "    </tr></tbody> \n",
       "</table> "
      ],
      "text/plain": [
       "<pandas.io.formats.style.Styler at 0x118687198>"
      ]
     },
     "execution_count": 577,
     "metadata": {},
     "output_type": "execute_result"
    }
   ],
   "source": [
    "#formatting table cells\n",
    "school_summary_table.style.format({'Total Students': '{:,}', \n",
    "                          \"Total School Budget\": \"${:,}\", \n",
    "                          \"Per Student Budget\": \"${:.0f}\",\n",
    "                          'Average Math Score': \"{:.1f}\", \n",
    "                          'Average Reading Score': \"{:.1f}\", \n",
    "                          \"% Passing Math\": \"{:.2%}\", \n",
    "                          \"% Passing Reading\": \"{:.2%}\", \n",
    "                          \"Overall Passing Rate\": \"{:.2%}\"})"
   ]
  },
  {
   "cell_type": "markdown",
   "metadata": {},
   "source": [
    "# Top 5 Performing Schools By Pass Rate"
   ]
  },
  {
   "cell_type": "code",
   "execution_count": 578,
   "metadata": {},
   "outputs": [
    {
     "data": {
      "text/html": [
       "<style  type=\"text/css\" >\n",
       "</style>  \n",
       "<table id=\"T_9e9e7f9a_571c_11e8_988e_720002f9a650\" > \n",
       "<thead>    <tr> \n",
       "        <th class=\"blank level0\" ></th> \n",
       "        <th class=\"col_heading level0 col0\" >School Type</th> \n",
       "        <th class=\"col_heading level0 col1\" >Total Students</th> \n",
       "        <th class=\"col_heading level0 col2\" >Total School Budget</th> \n",
       "        <th class=\"col_heading level0 col3\" >Per Student Budget</th> \n",
       "        <th class=\"col_heading level0 col4\" >Average Math Score</th> \n",
       "        <th class=\"col_heading level0 col5\" >Average Reading Score</th> \n",
       "        <th class=\"col_heading level0 col6\" >% Passing Math</th> \n",
       "        <th class=\"col_heading level0 col7\" >% Passing Reading</th> \n",
       "        <th class=\"col_heading level0 col8\" >Overall Passing Rate</th> \n",
       "    </tr></thead> \n",
       "<tbody>    <tr> \n",
       "        <th id=\"T_9e9e7f9a_571c_11e8_988e_720002f9a650level0_row0\" class=\"row_heading level0 row0\" >Cabrera High School</th> \n",
       "        <td id=\"T_9e9e7f9a_571c_11e8_988e_720002f9a650row0_col0\" class=\"data row0 col0\" >Charter</td> \n",
       "        <td id=\"T_9e9e7f9a_571c_11e8_988e_720002f9a650row0_col1\" class=\"data row0 col1\" >1,858</td> \n",
       "        <td id=\"T_9e9e7f9a_571c_11e8_988e_720002f9a650row0_col2\" class=\"data row0 col2\" >$1,081,356</td> \n",
       "        <td id=\"T_9e9e7f9a_571c_11e8_988e_720002f9a650row0_col3\" class=\"data row0 col3\" >$582</td> \n",
       "        <td id=\"T_9e9e7f9a_571c_11e8_988e_720002f9a650row0_col4\" class=\"data row0 col4\" >83.0619</td> \n",
       "        <td id=\"T_9e9e7f9a_571c_11e8_988e_720002f9a650row0_col5\" class=\"data row0 col5\" >83.9758</td> \n",
       "        <td id=\"T_9e9e7f9a_571c_11e8_988e_720002f9a650row0_col6\" class=\"data row0 col6\" >100.0%</td> \n",
       "        <td id=\"T_9e9e7f9a_571c_11e8_988e_720002f9a650row0_col7\" class=\"data row0 col7\" >100.0%</td> \n",
       "        <td id=\"T_9e9e7f9a_571c_11e8_988e_720002f9a650row0_col8\" class=\"data row0 col8\" >100.0%</td> \n",
       "    </tr>    <tr> \n",
       "        <th id=\"T_9e9e7f9a_571c_11e8_988e_720002f9a650level0_row1\" class=\"row_heading level0 row1\" >Griffin High School</th> \n",
       "        <td id=\"T_9e9e7f9a_571c_11e8_988e_720002f9a650row1_col0\" class=\"data row1 col0\" >Charter</td> \n",
       "        <td id=\"T_9e9e7f9a_571c_11e8_988e_720002f9a650row1_col1\" class=\"data row1 col1\" >1,468</td> \n",
       "        <td id=\"T_9e9e7f9a_571c_11e8_988e_720002f9a650row1_col2\" class=\"data row1 col2\" >$917,500</td> \n",
       "        <td id=\"T_9e9e7f9a_571c_11e8_988e_720002f9a650row1_col3\" class=\"data row1 col3\" >$625</td> \n",
       "        <td id=\"T_9e9e7f9a_571c_11e8_988e_720002f9a650row1_col4\" class=\"data row1 col4\" >83.3515</td> \n",
       "        <td id=\"T_9e9e7f9a_571c_11e8_988e_720002f9a650row1_col5\" class=\"data row1 col5\" >83.8168</td> \n",
       "        <td id=\"T_9e9e7f9a_571c_11e8_988e_720002f9a650row1_col6\" class=\"data row1 col6\" >100.0%</td> \n",
       "        <td id=\"T_9e9e7f9a_571c_11e8_988e_720002f9a650row1_col7\" class=\"data row1 col7\" >100.0%</td> \n",
       "        <td id=\"T_9e9e7f9a_571c_11e8_988e_720002f9a650row1_col8\" class=\"data row1 col8\" >100.0%</td> \n",
       "    </tr>    <tr> \n",
       "        <th id=\"T_9e9e7f9a_571c_11e8_988e_720002f9a650level0_row2\" class=\"row_heading level0 row2\" >Holden High School</th> \n",
       "        <td id=\"T_9e9e7f9a_571c_11e8_988e_720002f9a650row2_col0\" class=\"data row2 col0\" >Charter</td> \n",
       "        <td id=\"T_9e9e7f9a_571c_11e8_988e_720002f9a650row2_col1\" class=\"data row2 col1\" >427</td> \n",
       "        <td id=\"T_9e9e7f9a_571c_11e8_988e_720002f9a650row2_col2\" class=\"data row2 col2\" >$248,087</td> \n",
       "        <td id=\"T_9e9e7f9a_571c_11e8_988e_720002f9a650row2_col3\" class=\"data row2 col3\" >$581</td> \n",
       "        <td id=\"T_9e9e7f9a_571c_11e8_988e_720002f9a650row2_col4\" class=\"data row2 col4\" >83.8033</td> \n",
       "        <td id=\"T_9e9e7f9a_571c_11e8_988e_720002f9a650row2_col5\" class=\"data row2 col5\" >83.815</td> \n",
       "        <td id=\"T_9e9e7f9a_571c_11e8_988e_720002f9a650row2_col6\" class=\"data row2 col6\" >100.0%</td> \n",
       "        <td id=\"T_9e9e7f9a_571c_11e8_988e_720002f9a650row2_col7\" class=\"data row2 col7\" >100.0%</td> \n",
       "        <td id=\"T_9e9e7f9a_571c_11e8_988e_720002f9a650row2_col8\" class=\"data row2 col8\" >100.0%</td> \n",
       "    </tr>    <tr> \n",
       "        <th id=\"T_9e9e7f9a_571c_11e8_988e_720002f9a650level0_row3\" class=\"row_heading level0 row3\" >Pena High School</th> \n",
       "        <td id=\"T_9e9e7f9a_571c_11e8_988e_720002f9a650row3_col0\" class=\"data row3 col0\" >Charter</td> \n",
       "        <td id=\"T_9e9e7f9a_571c_11e8_988e_720002f9a650row3_col1\" class=\"data row3 col1\" >962</td> \n",
       "        <td id=\"T_9e9e7f9a_571c_11e8_988e_720002f9a650row3_col2\" class=\"data row3 col2\" >$585,858</td> \n",
       "        <td id=\"T_9e9e7f9a_571c_11e8_988e_720002f9a650row3_col3\" class=\"data row3 col3\" >$609</td> \n",
       "        <td id=\"T_9e9e7f9a_571c_11e8_988e_720002f9a650row3_col4\" class=\"data row3 col4\" >83.8399</td> \n",
       "        <td id=\"T_9e9e7f9a_571c_11e8_988e_720002f9a650row3_col5\" class=\"data row3 col5\" >84.0447</td> \n",
       "        <td id=\"T_9e9e7f9a_571c_11e8_988e_720002f9a650row3_col6\" class=\"data row3 col6\" >100.0%</td> \n",
       "        <td id=\"T_9e9e7f9a_571c_11e8_988e_720002f9a650row3_col7\" class=\"data row3 col7\" >100.0%</td> \n",
       "        <td id=\"T_9e9e7f9a_571c_11e8_988e_720002f9a650row3_col8\" class=\"data row3 col8\" >100.0%</td> \n",
       "    </tr>    <tr> \n",
       "        <th id=\"T_9e9e7f9a_571c_11e8_988e_720002f9a650level0_row4\" class=\"row_heading level0 row4\" >Shelton High School</th> \n",
       "        <td id=\"T_9e9e7f9a_571c_11e8_988e_720002f9a650row4_col0\" class=\"data row4 col0\" >Charter</td> \n",
       "        <td id=\"T_9e9e7f9a_571c_11e8_988e_720002f9a650row4_col1\" class=\"data row4 col1\" >1,761</td> \n",
       "        <td id=\"T_9e9e7f9a_571c_11e8_988e_720002f9a650row4_col2\" class=\"data row4 col2\" >$1,056,600</td> \n",
       "        <td id=\"T_9e9e7f9a_571c_11e8_988e_720002f9a650row4_col3\" class=\"data row4 col3\" >$600</td> \n",
       "        <td id=\"T_9e9e7f9a_571c_11e8_988e_720002f9a650row4_col4\" class=\"data row4 col4\" >83.3595</td> \n",
       "        <td id=\"T_9e9e7f9a_571c_11e8_988e_720002f9a650row4_col5\" class=\"data row4 col5\" >83.7257</td> \n",
       "        <td id=\"T_9e9e7f9a_571c_11e8_988e_720002f9a650row4_col6\" class=\"data row4 col6\" >100.0%</td> \n",
       "        <td id=\"T_9e9e7f9a_571c_11e8_988e_720002f9a650row4_col7\" class=\"data row4 col7\" >100.0%</td> \n",
       "        <td id=\"T_9e9e7f9a_571c_11e8_988e_720002f9a650row4_col8\" class=\"data row4 col8\" >100.0%</td> \n",
       "    </tr></tbody> \n",
       "</table> "
      ],
      "text/plain": [
       "<pandas.io.formats.style.Styler at 0x118571e48>"
      ]
     },
     "execution_count": 578,
     "metadata": {},
     "output_type": "execute_result"
    }
   ],
   "source": [
    "# Arrange(sort) schools by passing rates (PRINT!)\n",
    "top_5_performing_schools = school_summary_table.sort_values(\"Overall Passing Rate\", ascending = False)\n",
    "top_5_performing_schools.head().style.format({'Total Students': '{:,}',\n",
    "                           \"Total School Budget\": \"${:,}\", \n",
    "                           \"Per Student Budget\": \"${:.0f}\", \n",
    "                           \"% Passing Math\": \"{:.1%}\", \n",
    "                           \"% Passing Reading\": \"{:.1%}\", \n",
    "                           \"Overall Passing Rate\": \"{:.1%}\"})\n"
   ]
  },
  {
   "cell_type": "markdown",
   "metadata": {},
   "source": [
    "# Bottom 5 Performing Schools By Pass Rate"
   ]
  },
  {
   "cell_type": "code",
   "execution_count": 579,
   "metadata": {},
   "outputs": [
    {
     "data": {
      "text/html": [
       "<style  type=\"text/css\" >\n",
       "</style>  \n",
       "<table id=\"T_a2298a24_571c_11e8_825e_720002f9a650\" > \n",
       "<thead>    <tr> \n",
       "        <th class=\"blank level0\" ></th> \n",
       "        <th class=\"col_heading level0 col0\" >School Type</th> \n",
       "        <th class=\"col_heading level0 col1\" >Total Students</th> \n",
       "        <th class=\"col_heading level0 col2\" >Total School Budget</th> \n",
       "        <th class=\"col_heading level0 col3\" >Per Student Budget</th> \n",
       "        <th class=\"col_heading level0 col4\" >Average Math Score</th> \n",
       "        <th class=\"col_heading level0 col5\" >Average Reading Score</th> \n",
       "        <th class=\"col_heading level0 col6\" >% Passing Math</th> \n",
       "        <th class=\"col_heading level0 col7\" >% Passing Reading</th> \n",
       "        <th class=\"col_heading level0 col8\" >Overall Passing Rate</th> \n",
       "    </tr></thead> \n",
       "<tbody>    <tr> \n",
       "        <th id=\"T_a2298a24_571c_11e8_825e_720002f9a650level0_row0\" class=\"row_heading level0 row0\" >Figueroa High School</th> \n",
       "        <td id=\"T_a2298a24_571c_11e8_825e_720002f9a650row0_col0\" class=\"data row0 col0\" >District</td> \n",
       "        <td id=\"T_a2298a24_571c_11e8_825e_720002f9a650row0_col1\" class=\"data row0 col1\" >2,949</td> \n",
       "        <td id=\"T_a2298a24_571c_11e8_825e_720002f9a650row0_col2\" class=\"data row0 col2\" >$1,884,411</td> \n",
       "        <td id=\"T_a2298a24_571c_11e8_825e_720002f9a650row0_col3\" class=\"data row0 col3\" >$639</td> \n",
       "        <td id=\"T_a2298a24_571c_11e8_825e_720002f9a650row0_col4\" class=\"data row0 col4\" >76.7118</td> \n",
       "        <td id=\"T_a2298a24_571c_11e8_825e_720002f9a650row0_col5\" class=\"data row0 col5\" >81.158</td> \n",
       "        <td id=\"T_a2298a24_571c_11e8_825e_720002f9a650row0_col6\" class=\"data row0 col6\" >88.4%</td> \n",
       "        <td id=\"T_a2298a24_571c_11e8_825e_720002f9a650row0_col7\" class=\"data row0 col7\" >100.0%</td> \n",
       "        <td id=\"T_a2298a24_571c_11e8_825e_720002f9a650row0_col8\" class=\"data row0 col8\" >94.2%</td> \n",
       "    </tr>    <tr> \n",
       "        <th id=\"T_a2298a24_571c_11e8_825e_720002f9a650level0_row1\" class=\"row_heading level0 row1\" >Rodriguez High School</th> \n",
       "        <td id=\"T_a2298a24_571c_11e8_825e_720002f9a650row1_col0\" class=\"data row1 col0\" >District</td> \n",
       "        <td id=\"T_a2298a24_571c_11e8_825e_720002f9a650row1_col1\" class=\"data row1 col1\" >3,999</td> \n",
       "        <td id=\"T_a2298a24_571c_11e8_825e_720002f9a650row1_col2\" class=\"data row1 col2\" >$2,547,363</td> \n",
       "        <td id=\"T_a2298a24_571c_11e8_825e_720002f9a650row1_col3\" class=\"data row1 col3\" >$637</td> \n",
       "        <td id=\"T_a2298a24_571c_11e8_825e_720002f9a650row1_col4\" class=\"data row1 col4\" >76.8427</td> \n",
       "        <td id=\"T_a2298a24_571c_11e8_825e_720002f9a650row1_col5\" class=\"data row1 col5\" >80.7447</td> \n",
       "        <td id=\"T_a2298a24_571c_11e8_825e_720002f9a650row1_col6\" class=\"data row1 col6\" >88.5%</td> \n",
       "        <td id=\"T_a2298a24_571c_11e8_825e_720002f9a650row1_col7\" class=\"data row1 col7\" >100.0%</td> \n",
       "        <td id=\"T_a2298a24_571c_11e8_825e_720002f9a650row1_col8\" class=\"data row1 col8\" >94.3%</td> \n",
       "    </tr>    <tr> \n",
       "        <th id=\"T_a2298a24_571c_11e8_825e_720002f9a650level0_row2\" class=\"row_heading level0 row2\" >Huang High School</th> \n",
       "        <td id=\"T_a2298a24_571c_11e8_825e_720002f9a650row2_col0\" class=\"data row2 col0\" >District</td> \n",
       "        <td id=\"T_a2298a24_571c_11e8_825e_720002f9a650row2_col1\" class=\"data row2 col1\" >2,917</td> \n",
       "        <td id=\"T_a2298a24_571c_11e8_825e_720002f9a650row2_col2\" class=\"data row2 col2\" >$1,910,635</td> \n",
       "        <td id=\"T_a2298a24_571c_11e8_825e_720002f9a650row2_col3\" class=\"data row2 col3\" >$655</td> \n",
       "        <td id=\"T_a2298a24_571c_11e8_825e_720002f9a650row2_col4\" class=\"data row2 col4\" >76.6294</td> \n",
       "        <td id=\"T_a2298a24_571c_11e8_825e_720002f9a650row2_col5\" class=\"data row2 col5\" >81.1827</td> \n",
       "        <td id=\"T_a2298a24_571c_11e8_825e_720002f9a650row2_col6\" class=\"data row2 col6\" >88.9%</td> \n",
       "        <td id=\"T_a2298a24_571c_11e8_825e_720002f9a650row2_col7\" class=\"data row2 col7\" >100.0%</td> \n",
       "        <td id=\"T_a2298a24_571c_11e8_825e_720002f9a650row2_col8\" class=\"data row2 col8\" >94.4%</td> \n",
       "    </tr>    <tr> \n",
       "        <th id=\"T_a2298a24_571c_11e8_825e_720002f9a650level0_row3\" class=\"row_heading level0 row3\" >Hernandez High School</th> \n",
       "        <td id=\"T_a2298a24_571c_11e8_825e_720002f9a650row3_col0\" class=\"data row3 col0\" >District</td> \n",
       "        <td id=\"T_a2298a24_571c_11e8_825e_720002f9a650row3_col1\" class=\"data row3 col1\" >4,635</td> \n",
       "        <td id=\"T_a2298a24_571c_11e8_825e_720002f9a650row3_col2\" class=\"data row3 col2\" >$3,022,020</td> \n",
       "        <td id=\"T_a2298a24_571c_11e8_825e_720002f9a650row3_col3\" class=\"data row3 col3\" >$652</td> \n",
       "        <td id=\"T_a2298a24_571c_11e8_825e_720002f9a650row3_col4\" class=\"data row3 col4\" >77.2898</td> \n",
       "        <td id=\"T_a2298a24_571c_11e8_825e_720002f9a650row3_col5\" class=\"data row3 col5\" >80.9344</td> \n",
       "        <td id=\"T_a2298a24_571c_11e8_825e_720002f9a650row3_col6\" class=\"data row3 col6\" >89.1%</td> \n",
       "        <td id=\"T_a2298a24_571c_11e8_825e_720002f9a650row3_col7\" class=\"data row3 col7\" >100.0%</td> \n",
       "        <td id=\"T_a2298a24_571c_11e8_825e_720002f9a650row3_col8\" class=\"data row3 col8\" >94.5%</td> \n",
       "    </tr>    <tr> \n",
       "        <th id=\"T_a2298a24_571c_11e8_825e_720002f9a650level0_row4\" class=\"row_heading level0 row4\" >Johnson High School</th> \n",
       "        <td id=\"T_a2298a24_571c_11e8_825e_720002f9a650row4_col0\" class=\"data row4 col0\" >District</td> \n",
       "        <td id=\"T_a2298a24_571c_11e8_825e_720002f9a650row4_col1\" class=\"data row4 col1\" >4,761</td> \n",
       "        <td id=\"T_a2298a24_571c_11e8_825e_720002f9a650row4_col2\" class=\"data row4 col2\" >$3,094,650</td> \n",
       "        <td id=\"T_a2298a24_571c_11e8_825e_720002f9a650row4_col3\" class=\"data row4 col3\" >$650</td> \n",
       "        <td id=\"T_a2298a24_571c_11e8_825e_720002f9a650row4_col4\" class=\"data row4 col4\" >77.0725</td> \n",
       "        <td id=\"T_a2298a24_571c_11e8_825e_720002f9a650row4_col5\" class=\"data row4 col5\" >80.9664</td> \n",
       "        <td id=\"T_a2298a24_571c_11e8_825e_720002f9a650row4_col6\" class=\"data row4 col6\" >89.2%</td> \n",
       "        <td id=\"T_a2298a24_571c_11e8_825e_720002f9a650row4_col7\" class=\"data row4 col7\" >100.0%</td> \n",
       "        <td id=\"T_a2298a24_571c_11e8_825e_720002f9a650row4_col8\" class=\"data row4 col8\" >94.6%</td> \n",
       "    </tr></tbody> \n",
       "</table> "
      ],
      "text/plain": [
       "<pandas.io.formats.style.Styler at 0x1186d86a0>"
      ]
     },
     "execution_count": 579,
     "metadata": {},
     "output_type": "execute_result"
    }
   ],
   "source": [
    "#Find the 5 lowest performing school and arrange(sort) from the worst to best (DO NOT PRINT!)\n",
    "bottom_5_performing_schools = top_5_performing_schools.tail()\n",
    "bottom_5_performing_schools = bottom_5_performing_schools.sort_values('Overall Passing Rate', ascending = True)\n",
    "bottom_5_performing_schools.head().style.format({'Total Students': '{:,}', \n",
    "                       \"Total School Budget\": \"${:,}\", \n",
    "                       \"Per Student Budget\": \"${:.0f}\", \n",
    "                       \"% Passing Math\": \"{:.1%}\", \n",
    "                       \"% Passing Reading\": \"{:.1%}\", \n",
    "                       \"Overall Passing Rate\": \"{:.1%}\"})\n",
    "\n"
   ]
  },
  {
   "cell_type": "code",
   "execution_count": 580,
   "metadata": {},
   "outputs": [],
   "source": [
    "#Find and breakdown grades data by year in school \n",
    "\n",
    "freshman_df = students_df.loc[students_df[\"grade\"] == \"9th\"].groupby(\"school\", as_index=False)\n",
    "sophomore_df = students_df.loc[students_df[\"grade\"] == \"10th\"].groupby(\"school\", as_index=False)\n",
    "junior_df = students_df.loc[students_df[\"grade\"] == \"11th\"].groupby(\"school\", as_index=False)\n",
    "senior_df = students_df.loc[students_df[\"grade\"] == \"12th\"].groupby(\"school\", as_index=False)"
   ]
  },
  {
   "cell_type": "code",
   "execution_count": 581,
   "metadata": {},
   "outputs": [],
   "source": [
    "# freshman_df.head()"
   ]
  },
  {
   "cell_type": "code",
   "execution_count": 582,
   "metadata": {},
   "outputs": [],
   "source": [
    "#Group and find average math score by grade \n",
    "freshman_math_mean = pd.DataFrame(freshman_df[\"math_score\"].mean())\n",
    "sophomore_math_mean = pd.DataFrame(sophomore_df[\"math_score\"].mean())\n",
    "junior_math_mean = pd.DataFrame(junior_df[\"math_score\"].mean())\n",
    "senior_math_mean = pd.DataFrame(senior_df[\"math_score\"].mean())\n"
   ]
  },
  {
   "cell_type": "code",
   "execution_count": 583,
   "metadata": {},
   "outputs": [],
   "source": [
    "#Group and find average readin score by grade \n",
    "freshman_reading_mean = pd.DataFrame(freshman_df[\"reading_score\"].mean())\n",
    "sophomore_reading_mean = pd.DataFrame(sophomore_df[\"reading_score\"].mean())\n",
    "junior_reading_mean = pd.DataFrame(junior_df[\"reading_score\"].mean())\n",
    "senior_reading_mean = pd.DataFrame(senior_df[\"reading_score\"].mean())"
   ]
  },
  {
   "cell_type": "code",
   "execution_count": 584,
   "metadata": {},
   "outputs": [],
   "source": [
    "#Merge math by grade to summary table (merge on right error??)\n",
    "\n",
    "math_grade = pd.merge(freshman_math_mean, sophomore_math_mean, on=\"school\")\n",
    "# math_grade = pd.merge(sophomore_math_mean, on=\"school\")\n",
    "math_grade = pd.merge(math_grade, junior_math_mean, on=\"school\") \n",
    "math_grade = pd.merge(math_grade, senior_math_mean, on=\"school\")\n",
    "math_grade.columns = [\"school\",\"freshman\",\"sophomore\",\"junior\",\"senior\"]\n",
    "\n",
    "#print(math_grade)"
   ]
  },
  {
   "cell_type": "code",
   "execution_count": 585,
   "metadata": {},
   "outputs": [
    {
     "name": "stdout",
     "output_type": "stream",
     "text": [
      "                   school   freshman  sophomore     junior     senior\n",
      "0      Bailey High School  81.303155  80.907183  80.945643  80.912451\n",
      "1     Cabrera High School  83.676136  84.253219  83.788382  84.287958\n",
      "2    Figueroa High School  81.198598  81.408912  80.640339  81.384863\n",
      "3        Ford High School  80.632653  81.262712  80.403642  80.662338\n",
      "4     Griffin High School  83.369193  83.706897  84.288089  84.013699\n",
      "5   Hernandez High School  80.866860  80.660147  81.396140  80.857143\n",
      "6      Holden High School  83.677165  83.324561  83.815534  84.698795\n",
      "7       Huang High School  81.290284  81.512386  81.417476  80.305983\n",
      "8     Johnson High School  81.260714  80.773431  80.616027  81.227564\n",
      "9        Pena High School  83.807273  83.612000  84.335938  84.591160\n",
      "10  Rodriguez High School  80.993127  80.629808  80.864811  80.376426\n",
      "11    Shelton High School  84.122642  83.441964  84.373786  82.781671\n",
      "12     Thomas High School  83.728850  84.254157  83.585542  83.831361\n",
      "13     Wilson High School  83.939778  84.021452  83.764608  84.317673\n",
      "14     Wright High School  83.833333  83.812757  84.156322  84.073171\n"
     ]
    }
   ],
   "source": [
    "#Merge reading by grade to summary table (merge on right error?? still..)\n",
    "\n",
    "reading_grade = pd.merge(freshman_reading_mean, sophomore_reading_mean, on=\"school\")\n",
    "# math_grade = pd.merge(sophomore_reading_mean, on=\"school\")\n",
    "reading_grade = pd.merge(reading_grade, junior_reading_mean, on=\"school\") \n",
    "reading_grade = pd.merge(reading_grade, senior_reading_mean, on=\"school\")\n",
    "reading_grade.columns = [\"school\",\"freshman\",\"sophomore\",\"junior\",\"senior\"]\n",
    "print(reading_grade)"
   ]
  },
  {
   "cell_type": "markdown",
   "metadata": {},
   "source": [
    "# Math Score By Grade"
   ]
  },
  {
   "cell_type": "code",
   "execution_count": 586,
   "metadata": {},
   "outputs": [
    {
     "data": {
      "text/html": [
       "<style  type=\"text/css\" >\n",
       "</style>  \n",
       "<table id=\"T_aa454a90_571c_11e8_9173_720002f9a650\" > \n",
       "<thead>    <tr> \n",
       "        <th class=\"blank level0\" ></th> \n",
       "        <th class=\"col_heading level0 col0\" >school</th> \n",
       "        <th class=\"col_heading level0 col1\" >freshman</th> \n",
       "        <th class=\"col_heading level0 col2\" >sophomore</th> \n",
       "        <th class=\"col_heading level0 col3\" >junior</th> \n",
       "        <th class=\"col_heading level0 col4\" >senior</th> \n",
       "    </tr></thead> \n",
       "<tbody>    <tr> \n",
       "        <th id=\"T_aa454a90_571c_11e8_9173_720002f9a650level0_row0\" class=\"row_heading level0 row0\" >0</th> \n",
       "        <td id=\"T_aa454a90_571c_11e8_9173_720002f9a650row0_col0\" class=\"data row0 col0\" >Bailey High School</td> \n",
       "        <td id=\"T_aa454a90_571c_11e8_9173_720002f9a650row0_col1\" class=\"data row0 col1\" >77.08</td> \n",
       "        <td id=\"T_aa454a90_571c_11e8_9173_720002f9a650row0_col2\" class=\"data row0 col2\" >77.00</td> \n",
       "        <td id=\"T_aa454a90_571c_11e8_9173_720002f9a650row0_col3\" class=\"data row0 col3\" >77.52</td> \n",
       "        <td id=\"T_aa454a90_571c_11e8_9173_720002f9a650row0_col4\" class=\"data row0 col4\" >76.49</td> \n",
       "    </tr>    <tr> \n",
       "        <th id=\"T_aa454a90_571c_11e8_9173_720002f9a650level0_row1\" class=\"row_heading level0 row1\" >1</th> \n",
       "        <td id=\"T_aa454a90_571c_11e8_9173_720002f9a650row1_col0\" class=\"data row1 col0\" >Cabrera High School</td> \n",
       "        <td id=\"T_aa454a90_571c_11e8_9173_720002f9a650row1_col1\" class=\"data row1 col1\" >83.09</td> \n",
       "        <td id=\"T_aa454a90_571c_11e8_9173_720002f9a650row1_col2\" class=\"data row1 col2\" >83.15</td> \n",
       "        <td id=\"T_aa454a90_571c_11e8_9173_720002f9a650row1_col3\" class=\"data row1 col3\" >82.77</td> \n",
       "        <td id=\"T_aa454a90_571c_11e8_9173_720002f9a650row1_col4\" class=\"data row1 col4\" >83.28</td> \n",
       "    </tr>    <tr> \n",
       "        <th id=\"T_aa454a90_571c_11e8_9173_720002f9a650level0_row2\" class=\"row_heading level0 row2\" >2</th> \n",
       "        <td id=\"T_aa454a90_571c_11e8_9173_720002f9a650row2_col0\" class=\"data row2 col0\" >Figueroa High School</td> \n",
       "        <td id=\"T_aa454a90_571c_11e8_9173_720002f9a650row2_col1\" class=\"data row2 col1\" >76.40</td> \n",
       "        <td id=\"T_aa454a90_571c_11e8_9173_720002f9a650row2_col2\" class=\"data row2 col2\" >76.54</td> \n",
       "        <td id=\"T_aa454a90_571c_11e8_9173_720002f9a650row2_col3\" class=\"data row2 col3\" >76.88</td> \n",
       "        <td id=\"T_aa454a90_571c_11e8_9173_720002f9a650row2_col4\" class=\"data row2 col4\" >77.15</td> \n",
       "    </tr>    <tr> \n",
       "        <th id=\"T_aa454a90_571c_11e8_9173_720002f9a650level0_row3\" class=\"row_heading level0 row3\" >3</th> \n",
       "        <td id=\"T_aa454a90_571c_11e8_9173_720002f9a650row3_col0\" class=\"data row3 col0\" >Ford High School</td> \n",
       "        <td id=\"T_aa454a90_571c_11e8_9173_720002f9a650row3_col1\" class=\"data row3 col1\" >77.36</td> \n",
       "        <td id=\"T_aa454a90_571c_11e8_9173_720002f9a650row3_col2\" class=\"data row3 col2\" >77.67</td> \n",
       "        <td id=\"T_aa454a90_571c_11e8_9173_720002f9a650row3_col3\" class=\"data row3 col3\" >76.92</td> \n",
       "        <td id=\"T_aa454a90_571c_11e8_9173_720002f9a650row3_col4\" class=\"data row3 col4\" >76.18</td> \n",
       "    </tr>    <tr> \n",
       "        <th id=\"T_aa454a90_571c_11e8_9173_720002f9a650level0_row4\" class=\"row_heading level0 row4\" >4</th> \n",
       "        <td id=\"T_aa454a90_571c_11e8_9173_720002f9a650row4_col0\" class=\"data row4 col0\" >Griffin High School</td> \n",
       "        <td id=\"T_aa454a90_571c_11e8_9173_720002f9a650row4_col1\" class=\"data row4 col1\" >82.04</td> \n",
       "        <td id=\"T_aa454a90_571c_11e8_9173_720002f9a650row4_col2\" class=\"data row4 col2\" >84.23</td> \n",
       "        <td id=\"T_aa454a90_571c_11e8_9173_720002f9a650row4_col3\" class=\"data row4 col3\" >83.84</td> \n",
       "        <td id=\"T_aa454a90_571c_11e8_9173_720002f9a650row4_col4\" class=\"data row4 col4\" >83.36</td> \n",
       "    </tr>    <tr> \n",
       "        <th id=\"T_aa454a90_571c_11e8_9173_720002f9a650level0_row5\" class=\"row_heading level0 row5\" >5</th> \n",
       "        <td id=\"T_aa454a90_571c_11e8_9173_720002f9a650row5_col0\" class=\"data row5 col0\" >Hernandez High School</td> \n",
       "        <td id=\"T_aa454a90_571c_11e8_9173_720002f9a650row5_col1\" class=\"data row5 col1\" >77.44</td> \n",
       "        <td id=\"T_aa454a90_571c_11e8_9173_720002f9a650row5_col2\" class=\"data row5 col2\" >77.34</td> \n",
       "        <td id=\"T_aa454a90_571c_11e8_9173_720002f9a650row5_col3\" class=\"data row5 col3\" >77.14</td> \n",
       "        <td id=\"T_aa454a90_571c_11e8_9173_720002f9a650row5_col4\" class=\"data row5 col4\" >77.19</td> \n",
       "    </tr>    <tr> \n",
       "        <th id=\"T_aa454a90_571c_11e8_9173_720002f9a650level0_row6\" class=\"row_heading level0 row6\" >6</th> \n",
       "        <td id=\"T_aa454a90_571c_11e8_9173_720002f9a650row6_col0\" class=\"data row6 col0\" >Holden High School</td> \n",
       "        <td id=\"T_aa454a90_571c_11e8_9173_720002f9a650row6_col1\" class=\"data row6 col1\" >83.79</td> \n",
       "        <td id=\"T_aa454a90_571c_11e8_9173_720002f9a650row6_col2\" class=\"data row6 col2\" >83.43</td> \n",
       "        <td id=\"T_aa454a90_571c_11e8_9173_720002f9a650row6_col3\" class=\"data row6 col3\" >85.00</td> \n",
       "        <td id=\"T_aa454a90_571c_11e8_9173_720002f9a650row6_col4\" class=\"data row6 col4\" >82.86</td> \n",
       "    </tr>    <tr> \n",
       "        <th id=\"T_aa454a90_571c_11e8_9173_720002f9a650level0_row7\" class=\"row_heading level0 row7\" >7</th> \n",
       "        <td id=\"T_aa454a90_571c_11e8_9173_720002f9a650row7_col0\" class=\"data row7 col0\" >Huang High School</td> \n",
       "        <td id=\"T_aa454a90_571c_11e8_9173_720002f9a650row7_col1\" class=\"data row7 col1\" >77.03</td> \n",
       "        <td id=\"T_aa454a90_571c_11e8_9173_720002f9a650row7_col2\" class=\"data row7 col2\" >75.91</td> \n",
       "        <td id=\"T_aa454a90_571c_11e8_9173_720002f9a650row7_col3\" class=\"data row7 col3\" >76.45</td> \n",
       "        <td id=\"T_aa454a90_571c_11e8_9173_720002f9a650row7_col4\" class=\"data row7 col4\" >77.23</td> \n",
       "    </tr>    <tr> \n",
       "        <th id=\"T_aa454a90_571c_11e8_9173_720002f9a650level0_row8\" class=\"row_heading level0 row8\" >8</th> \n",
       "        <td id=\"T_aa454a90_571c_11e8_9173_720002f9a650row8_col0\" class=\"data row8 col0\" >Johnson High School</td> \n",
       "        <td id=\"T_aa454a90_571c_11e8_9173_720002f9a650row8_col1\" class=\"data row8 col1\" >77.19</td> \n",
       "        <td id=\"T_aa454a90_571c_11e8_9173_720002f9a650row8_col2\" class=\"data row8 col2\" >76.69</td> \n",
       "        <td id=\"T_aa454a90_571c_11e8_9173_720002f9a650row8_col3\" class=\"data row8 col3\" >77.49</td> \n",
       "        <td id=\"T_aa454a90_571c_11e8_9173_720002f9a650row8_col4\" class=\"data row8 col4\" >76.86</td> \n",
       "    </tr>    <tr> \n",
       "        <th id=\"T_aa454a90_571c_11e8_9173_720002f9a650level0_row9\" class=\"row_heading level0 row9\" >9</th> \n",
       "        <td id=\"T_aa454a90_571c_11e8_9173_720002f9a650row9_col0\" class=\"data row9 col0\" >Pena High School</td> \n",
       "        <td id=\"T_aa454a90_571c_11e8_9173_720002f9a650row9_col1\" class=\"data row9 col1\" >83.63</td> \n",
       "        <td id=\"T_aa454a90_571c_11e8_9173_720002f9a650row9_col2\" class=\"data row9 col2\" >83.37</td> \n",
       "        <td id=\"T_aa454a90_571c_11e8_9173_720002f9a650row9_col3\" class=\"data row9 col3\" >84.33</td> \n",
       "        <td id=\"T_aa454a90_571c_11e8_9173_720002f9a650row9_col4\" class=\"data row9 col4\" >84.12</td> \n",
       "    </tr>    <tr> \n",
       "        <th id=\"T_aa454a90_571c_11e8_9173_720002f9a650level0_row10\" class=\"row_heading level0 row10\" >10</th> \n",
       "        <td id=\"T_aa454a90_571c_11e8_9173_720002f9a650row10_col0\" class=\"data row10 col0\" >Rodriguez High School</td> \n",
       "        <td id=\"T_aa454a90_571c_11e8_9173_720002f9a650row10_col1\" class=\"data row10 col1\" >76.86</td> \n",
       "        <td id=\"T_aa454a90_571c_11e8_9173_720002f9a650row10_col2\" class=\"data row10 col2\" >76.61</td> \n",
       "        <td id=\"T_aa454a90_571c_11e8_9173_720002f9a650row10_col3\" class=\"data row10 col3\" >76.40</td> \n",
       "        <td id=\"T_aa454a90_571c_11e8_9173_720002f9a650row10_col4\" class=\"data row10 col4\" >77.69</td> \n",
       "    </tr>    <tr> \n",
       "        <th id=\"T_aa454a90_571c_11e8_9173_720002f9a650level0_row11\" class=\"row_heading level0 row11\" >11</th> \n",
       "        <td id=\"T_aa454a90_571c_11e8_9173_720002f9a650row11_col0\" class=\"data row11 col0\" >Shelton High School</td> \n",
       "        <td id=\"T_aa454a90_571c_11e8_9173_720002f9a650row11_col1\" class=\"data row11 col1\" >83.42</td> \n",
       "        <td id=\"T_aa454a90_571c_11e8_9173_720002f9a650row11_col2\" class=\"data row11 col2\" >82.92</td> \n",
       "        <td id=\"T_aa454a90_571c_11e8_9173_720002f9a650row11_col3\" class=\"data row11 col3\" >83.38</td> \n",
       "        <td id=\"T_aa454a90_571c_11e8_9173_720002f9a650row11_col4\" class=\"data row11 col4\" >83.78</td> \n",
       "    </tr>    <tr> \n",
       "        <th id=\"T_aa454a90_571c_11e8_9173_720002f9a650level0_row12\" class=\"row_heading level0 row12\" >12</th> \n",
       "        <td id=\"T_aa454a90_571c_11e8_9173_720002f9a650row12_col0\" class=\"data row12 col0\" >Thomas High School</td> \n",
       "        <td id=\"T_aa454a90_571c_11e8_9173_720002f9a650row12_col1\" class=\"data row12 col1\" >83.59</td> \n",
       "        <td id=\"T_aa454a90_571c_11e8_9173_720002f9a650row12_col2\" class=\"data row12 col2\" >83.09</td> \n",
       "        <td id=\"T_aa454a90_571c_11e8_9173_720002f9a650row12_col3\" class=\"data row12 col3\" >83.50</td> \n",
       "        <td id=\"T_aa454a90_571c_11e8_9173_720002f9a650row12_col4\" class=\"data row12 col4\" >83.50</td> \n",
       "    </tr>    <tr> \n",
       "        <th id=\"T_aa454a90_571c_11e8_9173_720002f9a650level0_row13\" class=\"row_heading level0 row13\" >13</th> \n",
       "        <td id=\"T_aa454a90_571c_11e8_9173_720002f9a650row13_col0\" class=\"data row13 col0\" >Wilson High School</td> \n",
       "        <td id=\"T_aa454a90_571c_11e8_9173_720002f9a650row13_col1\" class=\"data row13 col1\" >83.09</td> \n",
       "        <td id=\"T_aa454a90_571c_11e8_9173_720002f9a650row13_col2\" class=\"data row13 col2\" >83.72</td> \n",
       "        <td id=\"T_aa454a90_571c_11e8_9173_720002f9a650row13_col3\" class=\"data row13 col3\" >83.20</td> \n",
       "        <td id=\"T_aa454a90_571c_11e8_9173_720002f9a650row13_col4\" class=\"data row13 col4\" >83.04</td> \n",
       "    </tr>    <tr> \n",
       "        <th id=\"T_aa454a90_571c_11e8_9173_720002f9a650level0_row14\" class=\"row_heading level0 row14\" >14</th> \n",
       "        <td id=\"T_aa454a90_571c_11e8_9173_720002f9a650row14_col0\" class=\"data row14 col0\" >Wright High School</td> \n",
       "        <td id=\"T_aa454a90_571c_11e8_9173_720002f9a650row14_col1\" class=\"data row14 col1\" >83.26</td> \n",
       "        <td id=\"T_aa454a90_571c_11e8_9173_720002f9a650row14_col2\" class=\"data row14 col2\" >84.01</td> \n",
       "        <td id=\"T_aa454a90_571c_11e8_9173_720002f9a650row14_col3\" class=\"data row14 col3\" >83.84</td> \n",
       "        <td id=\"T_aa454a90_571c_11e8_9173_720002f9a650row14_col4\" class=\"data row14 col4\" >83.64</td> \n",
       "    </tr></tbody> \n",
       "</table> "
      ],
      "text/plain": [
       "<pandas.io.formats.style.Styler at 0x110ccb550>"
      ]
     },
     "execution_count": 586,
     "metadata": {},
     "output_type": "execute_result"
    }
   ],
   "source": [
    "#format and display table Math Score by Grade\n",
    "math_grade.style.format({'freshman': '{:.2f}', \n",
    "                          'sophomore': '{:.2f}', \n",
    "                          'junior': \"{:.2f}\", \n",
    "                          'senior': \"{:.2f}\"})"
   ]
  },
  {
   "cell_type": "markdown",
   "metadata": {},
   "source": [
    "# Reading Score By Grade"
   ]
  },
  {
   "cell_type": "code",
   "execution_count": 587,
   "metadata": {},
   "outputs": [
    {
     "data": {
      "text/html": [
       "<style  type=\"text/css\" >\n",
       "</style>  \n",
       "<table id=\"T_ae1e68d8_571c_11e8_8d9a_720002f9a650\" > \n",
       "<thead>    <tr> \n",
       "        <th class=\"blank level0\" ></th> \n",
       "        <th class=\"col_heading level0 col0\" >school</th> \n",
       "        <th class=\"col_heading level0 col1\" >freshman</th> \n",
       "        <th class=\"col_heading level0 col2\" >sophomore</th> \n",
       "        <th class=\"col_heading level0 col3\" >junior</th> \n",
       "        <th class=\"col_heading level0 col4\" >senior</th> \n",
       "    </tr></thead> \n",
       "<tbody>    <tr> \n",
       "        <th id=\"T_ae1e68d8_571c_11e8_8d9a_720002f9a650level0_row0\" class=\"row_heading level0 row0\" >0</th> \n",
       "        <td id=\"T_ae1e68d8_571c_11e8_8d9a_720002f9a650row0_col0\" class=\"data row0 col0\" >Bailey High School</td> \n",
       "        <td id=\"T_ae1e68d8_571c_11e8_8d9a_720002f9a650row0_col1\" class=\"data row0 col1\" >81.30</td> \n",
       "        <td id=\"T_ae1e68d8_571c_11e8_8d9a_720002f9a650row0_col2\" class=\"data row0 col2\" >80.91</td> \n",
       "        <td id=\"T_ae1e68d8_571c_11e8_8d9a_720002f9a650row0_col3\" class=\"data row0 col3\" >80.95</td> \n",
       "        <td id=\"T_ae1e68d8_571c_11e8_8d9a_720002f9a650row0_col4\" class=\"data row0 col4\" >80.91</td> \n",
       "    </tr>    <tr> \n",
       "        <th id=\"T_ae1e68d8_571c_11e8_8d9a_720002f9a650level0_row1\" class=\"row_heading level0 row1\" >1</th> \n",
       "        <td id=\"T_ae1e68d8_571c_11e8_8d9a_720002f9a650row1_col0\" class=\"data row1 col0\" >Cabrera High School</td> \n",
       "        <td id=\"T_ae1e68d8_571c_11e8_8d9a_720002f9a650row1_col1\" class=\"data row1 col1\" >83.68</td> \n",
       "        <td id=\"T_ae1e68d8_571c_11e8_8d9a_720002f9a650row1_col2\" class=\"data row1 col2\" >84.25</td> \n",
       "        <td id=\"T_ae1e68d8_571c_11e8_8d9a_720002f9a650row1_col3\" class=\"data row1 col3\" >83.79</td> \n",
       "        <td id=\"T_ae1e68d8_571c_11e8_8d9a_720002f9a650row1_col4\" class=\"data row1 col4\" >84.29</td> \n",
       "    </tr>    <tr> \n",
       "        <th id=\"T_ae1e68d8_571c_11e8_8d9a_720002f9a650level0_row2\" class=\"row_heading level0 row2\" >2</th> \n",
       "        <td id=\"T_ae1e68d8_571c_11e8_8d9a_720002f9a650row2_col0\" class=\"data row2 col0\" >Figueroa High School</td> \n",
       "        <td id=\"T_ae1e68d8_571c_11e8_8d9a_720002f9a650row2_col1\" class=\"data row2 col1\" >81.20</td> \n",
       "        <td id=\"T_ae1e68d8_571c_11e8_8d9a_720002f9a650row2_col2\" class=\"data row2 col2\" >81.41</td> \n",
       "        <td id=\"T_ae1e68d8_571c_11e8_8d9a_720002f9a650row2_col3\" class=\"data row2 col3\" >80.64</td> \n",
       "        <td id=\"T_ae1e68d8_571c_11e8_8d9a_720002f9a650row2_col4\" class=\"data row2 col4\" >81.38</td> \n",
       "    </tr>    <tr> \n",
       "        <th id=\"T_ae1e68d8_571c_11e8_8d9a_720002f9a650level0_row3\" class=\"row_heading level0 row3\" >3</th> \n",
       "        <td id=\"T_ae1e68d8_571c_11e8_8d9a_720002f9a650row3_col0\" class=\"data row3 col0\" >Ford High School</td> \n",
       "        <td id=\"T_ae1e68d8_571c_11e8_8d9a_720002f9a650row3_col1\" class=\"data row3 col1\" >80.63</td> \n",
       "        <td id=\"T_ae1e68d8_571c_11e8_8d9a_720002f9a650row3_col2\" class=\"data row3 col2\" >81.26</td> \n",
       "        <td id=\"T_ae1e68d8_571c_11e8_8d9a_720002f9a650row3_col3\" class=\"data row3 col3\" >80.40</td> \n",
       "        <td id=\"T_ae1e68d8_571c_11e8_8d9a_720002f9a650row3_col4\" class=\"data row3 col4\" >80.66</td> \n",
       "    </tr>    <tr> \n",
       "        <th id=\"T_ae1e68d8_571c_11e8_8d9a_720002f9a650level0_row4\" class=\"row_heading level0 row4\" >4</th> \n",
       "        <td id=\"T_ae1e68d8_571c_11e8_8d9a_720002f9a650row4_col0\" class=\"data row4 col0\" >Griffin High School</td> \n",
       "        <td id=\"T_ae1e68d8_571c_11e8_8d9a_720002f9a650row4_col1\" class=\"data row4 col1\" >83.37</td> \n",
       "        <td id=\"T_ae1e68d8_571c_11e8_8d9a_720002f9a650row4_col2\" class=\"data row4 col2\" >83.71</td> \n",
       "        <td id=\"T_ae1e68d8_571c_11e8_8d9a_720002f9a650row4_col3\" class=\"data row4 col3\" >84.29</td> \n",
       "        <td id=\"T_ae1e68d8_571c_11e8_8d9a_720002f9a650row4_col4\" class=\"data row4 col4\" >84.01</td> \n",
       "    </tr>    <tr> \n",
       "        <th id=\"T_ae1e68d8_571c_11e8_8d9a_720002f9a650level0_row5\" class=\"row_heading level0 row5\" >5</th> \n",
       "        <td id=\"T_ae1e68d8_571c_11e8_8d9a_720002f9a650row5_col0\" class=\"data row5 col0\" >Hernandez High School</td> \n",
       "        <td id=\"T_ae1e68d8_571c_11e8_8d9a_720002f9a650row5_col1\" class=\"data row5 col1\" >80.87</td> \n",
       "        <td id=\"T_ae1e68d8_571c_11e8_8d9a_720002f9a650row5_col2\" class=\"data row5 col2\" >80.66</td> \n",
       "        <td id=\"T_ae1e68d8_571c_11e8_8d9a_720002f9a650row5_col3\" class=\"data row5 col3\" >81.40</td> \n",
       "        <td id=\"T_ae1e68d8_571c_11e8_8d9a_720002f9a650row5_col4\" class=\"data row5 col4\" >80.86</td> \n",
       "    </tr>    <tr> \n",
       "        <th id=\"T_ae1e68d8_571c_11e8_8d9a_720002f9a650level0_row6\" class=\"row_heading level0 row6\" >6</th> \n",
       "        <td id=\"T_ae1e68d8_571c_11e8_8d9a_720002f9a650row6_col0\" class=\"data row6 col0\" >Holden High School</td> \n",
       "        <td id=\"T_ae1e68d8_571c_11e8_8d9a_720002f9a650row6_col1\" class=\"data row6 col1\" >83.68</td> \n",
       "        <td id=\"T_ae1e68d8_571c_11e8_8d9a_720002f9a650row6_col2\" class=\"data row6 col2\" >83.32</td> \n",
       "        <td id=\"T_ae1e68d8_571c_11e8_8d9a_720002f9a650row6_col3\" class=\"data row6 col3\" >83.82</td> \n",
       "        <td id=\"T_ae1e68d8_571c_11e8_8d9a_720002f9a650row6_col4\" class=\"data row6 col4\" >84.70</td> \n",
       "    </tr>    <tr> \n",
       "        <th id=\"T_ae1e68d8_571c_11e8_8d9a_720002f9a650level0_row7\" class=\"row_heading level0 row7\" >7</th> \n",
       "        <td id=\"T_ae1e68d8_571c_11e8_8d9a_720002f9a650row7_col0\" class=\"data row7 col0\" >Huang High School</td> \n",
       "        <td id=\"T_ae1e68d8_571c_11e8_8d9a_720002f9a650row7_col1\" class=\"data row7 col1\" >81.29</td> \n",
       "        <td id=\"T_ae1e68d8_571c_11e8_8d9a_720002f9a650row7_col2\" class=\"data row7 col2\" >81.51</td> \n",
       "        <td id=\"T_ae1e68d8_571c_11e8_8d9a_720002f9a650row7_col3\" class=\"data row7 col3\" >81.42</td> \n",
       "        <td id=\"T_ae1e68d8_571c_11e8_8d9a_720002f9a650row7_col4\" class=\"data row7 col4\" >80.31</td> \n",
       "    </tr>    <tr> \n",
       "        <th id=\"T_ae1e68d8_571c_11e8_8d9a_720002f9a650level0_row8\" class=\"row_heading level0 row8\" >8</th> \n",
       "        <td id=\"T_ae1e68d8_571c_11e8_8d9a_720002f9a650row8_col0\" class=\"data row8 col0\" >Johnson High School</td> \n",
       "        <td id=\"T_ae1e68d8_571c_11e8_8d9a_720002f9a650row8_col1\" class=\"data row8 col1\" >81.26</td> \n",
       "        <td id=\"T_ae1e68d8_571c_11e8_8d9a_720002f9a650row8_col2\" class=\"data row8 col2\" >80.77</td> \n",
       "        <td id=\"T_ae1e68d8_571c_11e8_8d9a_720002f9a650row8_col3\" class=\"data row8 col3\" >80.62</td> \n",
       "        <td id=\"T_ae1e68d8_571c_11e8_8d9a_720002f9a650row8_col4\" class=\"data row8 col4\" >81.23</td> \n",
       "    </tr>    <tr> \n",
       "        <th id=\"T_ae1e68d8_571c_11e8_8d9a_720002f9a650level0_row9\" class=\"row_heading level0 row9\" >9</th> \n",
       "        <td id=\"T_ae1e68d8_571c_11e8_8d9a_720002f9a650row9_col0\" class=\"data row9 col0\" >Pena High School</td> \n",
       "        <td id=\"T_ae1e68d8_571c_11e8_8d9a_720002f9a650row9_col1\" class=\"data row9 col1\" >83.81</td> \n",
       "        <td id=\"T_ae1e68d8_571c_11e8_8d9a_720002f9a650row9_col2\" class=\"data row9 col2\" >83.61</td> \n",
       "        <td id=\"T_ae1e68d8_571c_11e8_8d9a_720002f9a650row9_col3\" class=\"data row9 col3\" >84.34</td> \n",
       "        <td id=\"T_ae1e68d8_571c_11e8_8d9a_720002f9a650row9_col4\" class=\"data row9 col4\" >84.59</td> \n",
       "    </tr>    <tr> \n",
       "        <th id=\"T_ae1e68d8_571c_11e8_8d9a_720002f9a650level0_row10\" class=\"row_heading level0 row10\" >10</th> \n",
       "        <td id=\"T_ae1e68d8_571c_11e8_8d9a_720002f9a650row10_col0\" class=\"data row10 col0\" >Rodriguez High School</td> \n",
       "        <td id=\"T_ae1e68d8_571c_11e8_8d9a_720002f9a650row10_col1\" class=\"data row10 col1\" >80.99</td> \n",
       "        <td id=\"T_ae1e68d8_571c_11e8_8d9a_720002f9a650row10_col2\" class=\"data row10 col2\" >80.63</td> \n",
       "        <td id=\"T_ae1e68d8_571c_11e8_8d9a_720002f9a650row10_col3\" class=\"data row10 col3\" >80.86</td> \n",
       "        <td id=\"T_ae1e68d8_571c_11e8_8d9a_720002f9a650row10_col4\" class=\"data row10 col4\" >80.38</td> \n",
       "    </tr>    <tr> \n",
       "        <th id=\"T_ae1e68d8_571c_11e8_8d9a_720002f9a650level0_row11\" class=\"row_heading level0 row11\" >11</th> \n",
       "        <td id=\"T_ae1e68d8_571c_11e8_8d9a_720002f9a650row11_col0\" class=\"data row11 col0\" >Shelton High School</td> \n",
       "        <td id=\"T_ae1e68d8_571c_11e8_8d9a_720002f9a650row11_col1\" class=\"data row11 col1\" >84.12</td> \n",
       "        <td id=\"T_ae1e68d8_571c_11e8_8d9a_720002f9a650row11_col2\" class=\"data row11 col2\" >83.44</td> \n",
       "        <td id=\"T_ae1e68d8_571c_11e8_8d9a_720002f9a650row11_col3\" class=\"data row11 col3\" >84.37</td> \n",
       "        <td id=\"T_ae1e68d8_571c_11e8_8d9a_720002f9a650row11_col4\" class=\"data row11 col4\" >82.78</td> \n",
       "    </tr>    <tr> \n",
       "        <th id=\"T_ae1e68d8_571c_11e8_8d9a_720002f9a650level0_row12\" class=\"row_heading level0 row12\" >12</th> \n",
       "        <td id=\"T_ae1e68d8_571c_11e8_8d9a_720002f9a650row12_col0\" class=\"data row12 col0\" >Thomas High School</td> \n",
       "        <td id=\"T_ae1e68d8_571c_11e8_8d9a_720002f9a650row12_col1\" class=\"data row12 col1\" >83.73</td> \n",
       "        <td id=\"T_ae1e68d8_571c_11e8_8d9a_720002f9a650row12_col2\" class=\"data row12 col2\" >84.25</td> \n",
       "        <td id=\"T_ae1e68d8_571c_11e8_8d9a_720002f9a650row12_col3\" class=\"data row12 col3\" >83.59</td> \n",
       "        <td id=\"T_ae1e68d8_571c_11e8_8d9a_720002f9a650row12_col4\" class=\"data row12 col4\" >83.83</td> \n",
       "    </tr>    <tr> \n",
       "        <th id=\"T_ae1e68d8_571c_11e8_8d9a_720002f9a650level0_row13\" class=\"row_heading level0 row13\" >13</th> \n",
       "        <td id=\"T_ae1e68d8_571c_11e8_8d9a_720002f9a650row13_col0\" class=\"data row13 col0\" >Wilson High School</td> \n",
       "        <td id=\"T_ae1e68d8_571c_11e8_8d9a_720002f9a650row13_col1\" class=\"data row13 col1\" >83.94</td> \n",
       "        <td id=\"T_ae1e68d8_571c_11e8_8d9a_720002f9a650row13_col2\" class=\"data row13 col2\" >84.02</td> \n",
       "        <td id=\"T_ae1e68d8_571c_11e8_8d9a_720002f9a650row13_col3\" class=\"data row13 col3\" >83.76</td> \n",
       "        <td id=\"T_ae1e68d8_571c_11e8_8d9a_720002f9a650row13_col4\" class=\"data row13 col4\" >84.32</td> \n",
       "    </tr>    <tr> \n",
       "        <th id=\"T_ae1e68d8_571c_11e8_8d9a_720002f9a650level0_row14\" class=\"row_heading level0 row14\" >14</th> \n",
       "        <td id=\"T_ae1e68d8_571c_11e8_8d9a_720002f9a650row14_col0\" class=\"data row14 col0\" >Wright High School</td> \n",
       "        <td id=\"T_ae1e68d8_571c_11e8_8d9a_720002f9a650row14_col1\" class=\"data row14 col1\" >83.83</td> \n",
       "        <td id=\"T_ae1e68d8_571c_11e8_8d9a_720002f9a650row14_col2\" class=\"data row14 col2\" >83.81</td> \n",
       "        <td id=\"T_ae1e68d8_571c_11e8_8d9a_720002f9a650row14_col3\" class=\"data row14 col3\" >84.16</td> \n",
       "        <td id=\"T_ae1e68d8_571c_11e8_8d9a_720002f9a650row14_col4\" class=\"data row14 col4\" >84.07</td> \n",
       "    </tr></tbody> \n",
       "</table> "
      ],
      "text/plain": [
       "<pandas.io.formats.style.Styler at 0x118571320>"
      ]
     },
     "execution_count": 587,
     "metadata": {},
     "output_type": "execute_result"
    }
   ],
   "source": [
    "#format and display table Reading Score by Grade\n",
    "reading_grade.style.format({'freshman': '{:.2f}', \n",
    "                          'sophomore': '{:.2f}', \n",
    "                          'junior': \"{:.2f}\", \n",
    "                          'senior': \"{:.2f}\"})"
   ]
  },
  {
   "cell_type": "code",
   "execution_count": 588,
   "metadata": {},
   "outputs": [],
   "source": [
    "# Scores by School Budget per Student\n",
    "bins = [0, 584.999, 614.999, 644.999, 999999]\n",
    "group_names = [\"0 to 585\", \"585 to 615\", \"615 to 645\", \"645 to 675\"]\n",
    "school_student_budget_scores = school_summary_table[[\"Average Math Score\", \"Average Reading Score\", \"% Passing Math\", \"% Passing Reading\", \"Overall Passing Rate\"]].groupby(pd.cut(school_summary_table[\"Per Student Budget\"], bins=bins, labels=group_names )).mean() "
   ]
  },
  {
   "cell_type": "markdown",
   "metadata": {},
   "source": [
    "# Scores By School Spending"
   ]
  },
  {
   "cell_type": "code",
   "execution_count": 589,
   "metadata": {},
   "outputs": [
    {
     "data": {
      "text/html": [
       "<style  type=\"text/css\" >\n",
       "</style>  \n",
       "<table id=\"T_b08324c2_571c_11e8_8f9a_720002f9a650\" > \n",
       "<thead>    <tr> \n",
       "        <th class=\"blank level0\" ></th> \n",
       "        <th class=\"col_heading level0 col0\" >Average Math Score</th> \n",
       "        <th class=\"col_heading level0 col1\" >Average Reading Score</th> \n",
       "        <th class=\"col_heading level0 col2\" >% Passing Math</th> \n",
       "        <th class=\"col_heading level0 col3\" >% Passing Reading</th> \n",
       "        <th class=\"col_heading level0 col4\" >Overall Passing Rate</th> \n",
       "    </tr>    <tr> \n",
       "        <th class=\"index_name level0\" >Per Student Budget</th> \n",
       "        <th class=\"blank\" ></th> \n",
       "        <th class=\"blank\" ></th> \n",
       "        <th class=\"blank\" ></th> \n",
       "        <th class=\"blank\" ></th> \n",
       "        <th class=\"blank\" ></th> \n",
       "    </tr></thead> \n",
       "<tbody>    <tr> \n",
       "        <th id=\"T_b08324c2_571c_11e8_8f9a_720002f9a650level0_row0\" class=\"row_heading level0 row0\" >0 to 585</th> \n",
       "        <td id=\"T_b08324c2_571c_11e8_8f9a_720002f9a650row0_col0\" class=\"data row0 col0\" >83.5</td> \n",
       "        <td id=\"T_b08324c2_571c_11e8_8f9a_720002f9a650row0_col1\" class=\"data row0 col1\" >83.9</td> \n",
       "        <td id=\"T_b08324c2_571c_11e8_8f9a_720002f9a650row0_col2\" class=\"data row0 col2\" >100.0%</td> \n",
       "        <td id=\"T_b08324c2_571c_11e8_8f9a_720002f9a650row0_col3\" class=\"data row0 col3\" >100.0%</td> \n",
       "        <td id=\"T_b08324c2_571c_11e8_8f9a_720002f9a650row0_col4\" class=\"data row0 col4\" >100.0%</td> \n",
       "    </tr>    <tr> \n",
       "        <th id=\"T_b08324c2_571c_11e8_8f9a_720002f9a650level0_row1\" class=\"row_heading level0 row1\" >585 to 615</th> \n",
       "        <td id=\"T_b08324c2_571c_11e8_8f9a_720002f9a650row1_col0\" class=\"data row1 col0\" >83.6</td> \n",
       "        <td id=\"T_b08324c2_571c_11e8_8f9a_720002f9a650row1_col1\" class=\"data row1 col1\" >83.9</td> \n",
       "        <td id=\"T_b08324c2_571c_11e8_8f9a_720002f9a650row1_col2\" class=\"data row1 col2\" >100.0%</td> \n",
       "        <td id=\"T_b08324c2_571c_11e8_8f9a_720002f9a650row1_col3\" class=\"data row1 col3\" >100.0%</td> \n",
       "        <td id=\"T_b08324c2_571c_11e8_8f9a_720002f9a650row1_col4\" class=\"data row1 col4\" >100.0%</td> \n",
       "    </tr>    <tr> \n",
       "        <th id=\"T_b08324c2_571c_11e8_8f9a_720002f9a650level0_row2\" class=\"row_heading level0 row2\" >615 to 645</th> \n",
       "        <td id=\"T_b08324c2_571c_11e8_8f9a_720002f9a650row2_col0\" class=\"data row2 col0\" >79.1</td> \n",
       "        <td id=\"T_b08324c2_571c_11e8_8f9a_720002f9a650row2_col1\" class=\"data row2 col1\" >81.9</td> \n",
       "        <td id=\"T_b08324c2_571c_11e8_8f9a_720002f9a650row2_col2\" class=\"data row2 col2\" >92.6%</td> \n",
       "        <td id=\"T_b08324c2_571c_11e8_8f9a_720002f9a650row2_col3\" class=\"data row2 col3\" >100.0%</td> \n",
       "        <td id=\"T_b08324c2_571c_11e8_8f9a_720002f9a650row2_col4\" class=\"data row2 col4\" >96.3%</td> \n",
       "    </tr>    <tr> \n",
       "        <th id=\"T_b08324c2_571c_11e8_8f9a_720002f9a650level0_row3\" class=\"row_heading level0 row3\" >645 to 675</th> \n",
       "        <td id=\"T_b08324c2_571c_11e8_8f9a_720002f9a650row3_col0\" class=\"data row3 col0\" >77.0</td> \n",
       "        <td id=\"T_b08324c2_571c_11e8_8f9a_720002f9a650row3_col1\" class=\"data row3 col1\" >81.0</td> \n",
       "        <td id=\"T_b08324c2_571c_11e8_8f9a_720002f9a650row3_col2\" class=\"data row3 col2\" >89.0%</td> \n",
       "        <td id=\"T_b08324c2_571c_11e8_8f9a_720002f9a650row3_col3\" class=\"data row3 col3\" >100.0%</td> \n",
       "        <td id=\"T_b08324c2_571c_11e8_8f9a_720002f9a650row3_col4\" class=\"data row3 col4\" >94.5%</td> \n",
       "    </tr></tbody> \n",
       "</table> "
      ],
      "text/plain": [
       "<pandas.io.formats.style.Styler at 0x1185c5eb8>"
      ]
     },
     "execution_count": 589,
     "metadata": {},
     "output_type": "execute_result"
    }
   ],
   "source": [
    "#formating school budget (spending) per student table cells\n",
    "school_student_budget_scores.style.format({'Average Math Score': '{:.1f}', \n",
    "                              'Average Reading Score': '{:.1f}', \n",
    "                              '% Passing Math': '{:.1%}', \n",
    "                              '% Passing Reading':'{:.1%}', \n",
    "                              'Overall Passing Rate': '{:.1%}'})"
   ]
  },
  {
   "cell_type": "code",
   "execution_count": 590,
   "metadata": {},
   "outputs": [],
   "source": [
    "# Scores by School Size\n",
    "bins = [0, 1000, 2500, 50000]\n",
    "group_names = [\"Small < 1000\", \"Medium 1000 to 2500\", \"Large 2500 to 10000\"]\n",
    "school_student_scores_size = school_summary_table[[\"Average Math Score\", \"Average Reading Score\", \"% Passing Math\", \"% Passing Reading\", \"Overall Passing Rate\"]].groupby(pd.cut(school_summary_table[\"Total Students\"], bins=bins, labels=group_names )).mean()\n"
   ]
  },
  {
   "cell_type": "markdown",
   "metadata": {},
   "source": [
    "# Scores By School Size"
   ]
  },
  {
   "cell_type": "code",
   "execution_count": 591,
   "metadata": {},
   "outputs": [
    {
     "data": {
      "text/html": [
       "<style  type=\"text/css\" >\n",
       "</style>  \n",
       "<table id=\"T_b2642908_571c_11e8_a205_720002f9a650\" > \n",
       "<thead>    <tr> \n",
       "        <th class=\"blank level0\" ></th> \n",
       "        <th class=\"col_heading level0 col0\" >Average Math Score</th> \n",
       "        <th class=\"col_heading level0 col1\" >Average Reading Score</th> \n",
       "        <th class=\"col_heading level0 col2\" >% Passing Math</th> \n",
       "        <th class=\"col_heading level0 col3\" >% Passing Reading</th> \n",
       "        <th class=\"col_heading level0 col4\" >Overall Passing Rate</th> \n",
       "    </tr>    <tr> \n",
       "        <th class=\"index_name level0\" >Total Students</th> \n",
       "        <th class=\"blank\" ></th> \n",
       "        <th class=\"blank\" ></th> \n",
       "        <th class=\"blank\" ></th> \n",
       "        <th class=\"blank\" ></th> \n",
       "        <th class=\"blank\" ></th> \n",
       "    </tr></thead> \n",
       "<tbody>    <tr> \n",
       "        <th id=\"T_b2642908_571c_11e8_a205_720002f9a650level0_row0\" class=\"row_heading level0 row0\" >Small < 1000</th> \n",
       "        <td id=\"T_b2642908_571c_11e8_a205_720002f9a650row0_col0\" class=\"data row0 col0\" >83.8</td> \n",
       "        <td id=\"T_b2642908_571c_11e8_a205_720002f9a650row0_col1\" class=\"data row0 col1\" >83.9</td> \n",
       "        <td id=\"T_b2642908_571c_11e8_a205_720002f9a650row0_col2\" class=\"data row0 col2\" >100.0%</td> \n",
       "        <td id=\"T_b2642908_571c_11e8_a205_720002f9a650row0_col3\" class=\"data row0 col3\" >100.0%</td> \n",
       "        <td id=\"T_b2642908_571c_11e8_a205_720002f9a650row0_col4\" class=\"data row0 col4\" >100.0%</td> \n",
       "    </tr>    <tr> \n",
       "        <th id=\"T_b2642908_571c_11e8_a205_720002f9a650level0_row1\" class=\"row_heading level0 row1\" >Medium 1000 to 2500</th> \n",
       "        <td id=\"T_b2642908_571c_11e8_a205_720002f9a650row1_col0\" class=\"data row1 col0\" >83.4</td> \n",
       "        <td id=\"T_b2642908_571c_11e8_a205_720002f9a650row1_col1\" class=\"data row1 col1\" >83.9</td> \n",
       "        <td id=\"T_b2642908_571c_11e8_a205_720002f9a650row1_col2\" class=\"data row1 col2\" >100.0%</td> \n",
       "        <td id=\"T_b2642908_571c_11e8_a205_720002f9a650row1_col3\" class=\"data row1 col3\" >100.0%</td> \n",
       "        <td id=\"T_b2642908_571c_11e8_a205_720002f9a650row1_col4\" class=\"data row1 col4\" >100.0%</td> \n",
       "    </tr>    <tr> \n",
       "        <th id=\"T_b2642908_571c_11e8_a205_720002f9a650level0_row2\" class=\"row_heading level0 row2\" >Large 2500 to 10000</th> \n",
       "        <td id=\"T_b2642908_571c_11e8_a205_720002f9a650row2_col0\" class=\"data row2 col0\" >77.0</td> \n",
       "        <td id=\"T_b2642908_571c_11e8_a205_720002f9a650row2_col1\" class=\"data row2 col1\" >81.0</td> \n",
       "        <td id=\"T_b2642908_571c_11e8_a205_720002f9a650row2_col2\" class=\"data row2 col2\" >89.0%</td> \n",
       "        <td id=\"T_b2642908_571c_11e8_a205_720002f9a650row2_col3\" class=\"data row2 col3\" >100.0%</td> \n",
       "        <td id=\"T_b2642908_571c_11e8_a205_720002f9a650row2_col4\" class=\"data row2 col4\" >94.5%</td> \n",
       "    </tr></tbody> \n",
       "</table> "
      ],
      "text/plain": [
       "<pandas.io.formats.style.Styler at 0x1126256d8>"
      ]
     },
     "execution_count": 591,
     "metadata": {},
     "output_type": "execute_result"
    }
   ],
   "source": [
    "#formating school by size table cells\n",
    "school_student_scores_size.style.format({'Average Math Score': '{:.1f}', \n",
    "                              'Average Reading Score': '{:.1f}', \n",
    "                              '% Passing Math': '{:.1%}', \n",
    "                              '% Passing Reading':'{:.1%}', \n",
    "                              'Overall Passing Rate': '{:.1%}'})"
   ]
  },
  {
   "cell_type": "code",
   "execution_count": 592,
   "metadata": {},
   "outputs": [],
   "source": [
    "# Scores by School Type\n",
    "school_type_summary_table = school_summary_table\n",
    "school_type_summary_table[\"School Type\"] = school_type_summary_table[\"School Type\"].replace({\"Charter\": 1, \"District\": 2})\n"
   ]
  },
  {
   "cell_type": "code",
   "execution_count": 593,
   "metadata": {},
   "outputs": [],
   "source": [
    "#print(school_type_summary_table)"
   ]
  },
  {
   "cell_type": "code",
   "execution_count": 594,
   "metadata": {},
   "outputs": [],
   "source": [
    "bins = [0, 1, 2]\n",
    "group_names = [\"Charter\", \"District\"]\n",
    "student_scores_school_type  = school_type_summary_table[[\"Average Math Score\", \"Average Reading Score\", \"% Passing Math\", \"% Passing Reading\", \"Overall Passing Rate\"]].groupby(pd.cut(school_type_summary_table[\"School Type\"], bins=bins, labels=group_names)).mean()"
   ]
  },
  {
   "cell_type": "code",
   "execution_count": 595,
   "metadata": {},
   "outputs": [],
   "source": [
    "#print(student_scores_school_type)"
   ]
  },
  {
   "cell_type": "code",
   "execution_count": 596,
   "metadata": {},
   "outputs": [],
   "source": [
    "#student_scores_school_type.head()"
   ]
  },
  {
   "cell_type": "markdown",
   "metadata": {},
   "source": [
    "# Scores By School Type"
   ]
  },
  {
   "cell_type": "code",
   "execution_count": 597,
   "metadata": {},
   "outputs": [
    {
     "data": {
      "text/html": [
       "<style  type=\"text/css\" >\n",
       "</style>  \n",
       "<table id=\"T_b94bf39a_571c_11e8_a3d6_720002f9a650\" > \n",
       "<thead>    <tr> \n",
       "        <th class=\"blank level0\" ></th> \n",
       "        <th class=\"col_heading level0 col0\" >Average Math Score</th> \n",
       "        <th class=\"col_heading level0 col1\" >Average Reading Score</th> \n",
       "        <th class=\"col_heading level0 col2\" >% Passing Math</th> \n",
       "        <th class=\"col_heading level0 col3\" >% Passing Reading</th> \n",
       "        <th class=\"col_heading level0 col4\" >Overall Passing Rate</th> \n",
       "    </tr>    <tr> \n",
       "        <th class=\"index_name level0\" >School Type</th> \n",
       "        <th class=\"blank\" ></th> \n",
       "        <th class=\"blank\" ></th> \n",
       "        <th class=\"blank\" ></th> \n",
       "        <th class=\"blank\" ></th> \n",
       "        <th class=\"blank\" ></th> \n",
       "    </tr></thead> \n",
       "<tbody>    <tr> \n",
       "        <th id=\"T_b94bf39a_571c_11e8_a3d6_720002f9a650level0_row0\" class=\"row_heading level0 row0\" >Charter</th> \n",
       "        <td id=\"T_b94bf39a_571c_11e8_a3d6_720002f9a650row0_col0\" class=\"data row0 col0\" >83.5</td> \n",
       "        <td id=\"T_b94bf39a_571c_11e8_a3d6_720002f9a650row0_col1\" class=\"data row0 col1\" >83.9</td> \n",
       "        <td id=\"T_b94bf39a_571c_11e8_a3d6_720002f9a650row0_col2\" class=\"data row0 col2\" >100.0%</td> \n",
       "        <td id=\"T_b94bf39a_571c_11e8_a3d6_720002f9a650row0_col3\" class=\"data row0 col3\" >100.0%</td> \n",
       "        <td id=\"T_b94bf39a_571c_11e8_a3d6_720002f9a650row0_col4\" class=\"data row0 col4\" >100.0%</td> \n",
       "    </tr>    <tr> \n",
       "        <th id=\"T_b94bf39a_571c_11e8_a3d6_720002f9a650level0_row1\" class=\"row_heading level0 row1\" >District</th> \n",
       "        <td id=\"T_b94bf39a_571c_11e8_a3d6_720002f9a650row1_col0\" class=\"data row1 col0\" >77.0</td> \n",
       "        <td id=\"T_b94bf39a_571c_11e8_a3d6_720002f9a650row1_col1\" class=\"data row1 col1\" >81.0</td> \n",
       "        <td id=\"T_b94bf39a_571c_11e8_a3d6_720002f9a650row1_col2\" class=\"data row1 col2\" >89.0%</td> \n",
       "        <td id=\"T_b94bf39a_571c_11e8_a3d6_720002f9a650row1_col3\" class=\"data row1 col3\" >100.0%</td> \n",
       "        <td id=\"T_b94bf39a_571c_11e8_a3d6_720002f9a650row1_col4\" class=\"data row1 col4\" >94.5%</td> \n",
       "    </tr></tbody> \n",
       "</table> "
      ],
      "text/plain": [
       "<pandas.io.formats.style.Styler at 0x112625470>"
      ]
     },
     "execution_count": 597,
     "metadata": {},
     "output_type": "execute_result"
    }
   ],
   "source": [
    "#formating\n",
    "student_scores_school_type.style.format({'Average Math Score': '{:.1f}', \n",
    "                              'Average Reading Score': '{:.1f}', \n",
    "                              '% Passing Math': '{:.1%}', \n",
    "                              '% Passing Reading':'{:.1%}', \n",
    "                              'Overall Passing Rate': '{:.1%}'})\n"
   ]
  },
  {
   "cell_type": "code",
   "execution_count": 598,
   "metadata": {},
   "outputs": [],
   "source": [
    "######"
   ]
  },
  {
   "cell_type": "markdown",
   "metadata": {},
   "source": [
    "#END"
   ]
  },
  {
   "cell_type": "code",
   "execution_count": null,
   "metadata": {},
   "outputs": [],
   "source": []
  }
 ],
 "metadata": {
  "kernelspec": {
   "display_name": "Python 3",
   "language": "python",
   "name": "python3"
  },
  "language_info": {
   "codemirror_mode": {
    "name": "ipython",
    "version": 3
   },
   "file_extension": ".py",
   "mimetype": "text/x-python",
   "name": "python",
   "nbconvert_exporter": "python",
   "pygments_lexer": "ipython3",
   "version": "3.6.4"
  }
 },
 "nbformat": 4,
 "nbformat_minor": 2
}
